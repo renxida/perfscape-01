{
 "cells": [
  {
   "cell_type": "code",
   "execution_count": 1,
   "id": "d40151c3-0e84-455f-911d-d23b7fdf7277",
   "metadata": {},
   "outputs": [],
   "source": [
    "import glob"
   ]
  },
  {
   "cell_type": "code",
   "execution_count": 2,
   "id": "86edfd82-21ad-4d29-9ad8-5b62fcf61135",
   "metadata": {},
   "outputs": [
    {
     "name": "stdout",
     "output_type": "stream",
     "text": [
      "Start computing 1 iterations\n",
      "Finish computing 1 iterations\n",
      "\n",
      " Performance counter stats for './bvlcalexnet-7.onnx.bin':\n",
      "\n",
      "            524.67 msec task-clock                #    1.000 CPUs utilized          \n",
      "        2572120980      cycles                    #    4.902 GHz                    \n",
      "        5380881682      instructions              #    2.09  insn per cycle         \n",
      "          79796834      cache-references          #  152.089 M/sec                  \n",
      "           5647912      cache-misses              #    7.078 % of all cache refs    \n",
      "         709814933      branches                  # 1352.875 M/sec                  \n",
      "           1039967      branch-misses             #    0.15% of all branches        \n",
      "\n",
      "       0.524810221 seconds time elapsed\n",
      "\n",
      "       0.512840000 seconds user\n",
      "       0.012019000 seconds sys\n",
      "\n",
      "\n"
     ]
    }
   ],
   "source": [
    "cat data/bvlcalexnet-7.onnx/145.40.69.165/perf_output.txt\n"
   ]
  },
  {
   "cell_type": "code",
   "execution_count": 3,
   "id": "4ff56e77-22c5-4bb1-9d4b-cbd57502e905",
   "metadata": {},
   "outputs": [],
   "source": [
    "success_phrase = \"\"\"Start computing 1 iterations\n",
    "Finish computing 1 iterations\"\"\""
   ]
  },
  {
   "cell_type": "code",
   "execution_count": 4,
   "id": "708d961f-de97-4fda-9dae-8c4dc6ba3992",
   "metadata": {},
   "outputs": [],
   "source": [
    "failures = []\n",
    "successes = []\n",
    "models = []\n",
    "hosts = []"
   ]
  },
  {
   "cell_type": "code",
   "execution_count": 5,
   "id": "aa8a6ee0-3f42-4db2-8006-169517221e11",
   "metadata": {},
   "outputs": [],
   "source": [
    "from pathlib import Path"
   ]
  },
  {
   "cell_type": "code",
   "execution_count": 6,
   "id": "8ea276ed-8068-458e-9a46-31cd59239134",
   "metadata": {},
   "outputs": [],
   "source": [
    "p = Path(\"data/bvlcalexnet-7.onnx/145.40.69.165/perf_output.txt\")\n"
   ]
  },
  {
   "cell_type": "code",
   "execution_count": 7,
   "id": "ccd1d4c2-46eb-4656-8cb0-5abe3491f8fd",
   "metadata": {},
   "outputs": [
    {
     "data": {
      "text/plain": [
       "'bvlcalexnet-7.onnx'"
      ]
     },
     "execution_count": 7,
     "metadata": {},
     "output_type": "execute_result"
    }
   ],
   "source": [
    "p.parts[-3]"
   ]
  },
  {
   "cell_type": "code",
   "execution_count": null,
   "id": "35199f06-d834-4c9f-a983-3865ea7175e9",
   "metadata": {},
   "outputs": [],
   "source": [
    "\n"
   ]
  },
  {
   "cell_type": "code",
   "execution_count": null,
   "id": "be67a8f0-0609-45b4-a148-d15882fab8a0",
   "metadata": {},
   "outputs": [],
   "source": []
  },
  {
   "cell_type": "code",
   "execution_count": 8,
   "id": "e89412eb-300f-4fd9-a99b-8c78e3e688c0",
   "metadata": {},
   "outputs": [],
   "source": [
    "for fn in glob.iglob(\"data/*/*/perf_output.txt\"):\n",
    "    fn = Path(fn)\n",
    "    \n",
    "    with open(fn, mode=\"r\") as f:\n",
    "        contents=f.read()\n",
    "        if success_phrase not in contents:\n",
    "            failures.append(contents)\n",
    "        else:\n",
    "            successes.append(contents)\n",
    "            models.append(fn.parts[-3])\n",
    "            hosts.append(fn.parts[-2])"
   ]
  },
  {
   "cell_type": "code",
   "execution_count": 9,
   "id": "4658da30-523a-42b8-ac97-bb071c9bfa5b",
   "metadata": {},
   "outputs": [],
   "source": [
    "def parse(contents):\n",
    "    d = {}\n",
    "    for line in contents.split(\"\\n\")[5:]:\n",
    "        parts = line.split(\"#\")\n",
    "        for part in parts:\n",
    "            words = part.split()\n",
    "            if len(words)>0:\n",
    "                k = \" \".join(words[1:])\n",
    "\n",
    "                number_string = words[0]\n",
    "                if number_string[-1] == \"%\":\n",
    "                    v = float(number_string[:-1])/100\n",
    "                else:\n",
    "                    v = float(number_string)\n",
    "                \n",
    "                d[k]=v\n",
    "    return d"
   ]
  },
  {
   "cell_type": "code",
   "execution_count": 10,
   "id": "2af3e70e-1d18-4fc7-9423-b7788fb4f6e2",
   "metadata": {},
   "outputs": [],
   "source": [
    "records = []"
   ]
  },
  {
   "cell_type": "code",
   "execution_count": 11,
   "id": "6fb57c6b-6fab-4f45-be30-837737d7ef14",
   "metadata": {},
   "outputs": [],
   "source": [
    "for contents, host, model in zip(successes, hosts, models):\n",
    "    d = parse(contents)\n",
    "    d[\"host\"] = host\n",
    "    d[\"model\"]= model\n",
    "    records.append(d)"
   ]
  },
  {
   "cell_type": "code",
   "execution_count": 12,
   "id": "79016fae-3844-4598-8e83-93ff262bfb65",
   "metadata": {},
   "outputs": [],
   "source": [
    "import pandas as pd"
   ]
  },
  {
   "cell_type": "code",
   "execution_count": 13,
   "id": "18c08283-b29b-4f76-91cd-d825fd5efe22",
   "metadata": {},
   "outputs": [],
   "source": [
    "df_raw = pd.DataFrame.from_records(records)"
   ]
  },
  {
   "cell_type": "code",
   "execution_count": 14,
   "id": "f4ba5a46-0477-4b88-999d-5950f61c41b8",
   "metadata": {},
   "outputs": [
    {
     "data": {
      "text/html": [
       "<div>\n",
       "<style scoped>\n",
       "    .dataframe tbody tr th:only-of-type {\n",
       "        vertical-align: middle;\n",
       "    }\n",
       "\n",
       "    .dataframe tbody tr th {\n",
       "        vertical-align: top;\n",
       "    }\n",
       "\n",
       "    .dataframe thead th {\n",
       "        text-align: right;\n",
       "    }\n",
       "</style>\n",
       "<table border=\"1\" class=\"dataframe\">\n",
       "  <thead>\n",
       "    <tr style=\"text-align: right;\">\n",
       "      <th></th>\n",
       "      <th>msec task-clock</th>\n",
       "      <th>CPUs utilized</th>\n",
       "      <th>cycles</th>\n",
       "      <th>GHz</th>\n",
       "      <th>instructions</th>\n",
       "      <th>insn per cycle</th>\n",
       "      <th>cache-references</th>\n",
       "      <th>M/sec</th>\n",
       "      <th>cache-misses</th>\n",
       "      <th>% of all cache refs</th>\n",
       "      <th>branches</th>\n",
       "      <th>branch-misses</th>\n",
       "      <th>of all branches</th>\n",
       "      <th>seconds time elapsed</th>\n",
       "      <th>seconds user</th>\n",
       "      <th>seconds sys</th>\n",
       "      <th>host</th>\n",
       "      <th>model</th>\n",
       "    </tr>\n",
       "  </thead>\n",
       "  <tbody>\n",
       "    <tr>\n",
       "      <th>0</th>\n",
       "      <td>954.08</td>\n",
       "      <td>1.000</td>\n",
       "      <td>3.164130e+09</td>\n",
       "      <td>3.316</td>\n",
       "      <td>5.934072e+09</td>\n",
       "      <td>1.88</td>\n",
       "      <td>5.247691e+08</td>\n",
       "      <td>824.483</td>\n",
       "      <td>26231599.0</td>\n",
       "      <td>4.999</td>\n",
       "      <td>7.866217e+08</td>\n",
       "      <td>7729330.0</td>\n",
       "      <td>0.0098</td>\n",
       "      <td>0.954343</td>\n",
       "      <td>0.946285</td>\n",
       "      <td>0.008019</td>\n",
       "      <td>93.187.218.93</td>\n",
       "      <td>rcnn-ilsvrc13-7.onnx</td>\n",
       "    </tr>\n",
       "    <tr>\n",
       "      <th>1</th>\n",
       "      <td>939.60</td>\n",
       "      <td>0.999</td>\n",
       "      <td>2.739255e+09</td>\n",
       "      <td>2.915</td>\n",
       "      <td>5.934294e+09</td>\n",
       "      <td>2.17</td>\n",
       "      <td>5.257923e+06</td>\n",
       "      <td>837.232</td>\n",
       "      <td>4143852.0</td>\n",
       "      <td>78.812</td>\n",
       "      <td>7.866668e+08</td>\n",
       "      <td>1127138.0</td>\n",
       "      <td>0.0014</td>\n",
       "      <td>0.940093</td>\n",
       "      <td>0.932194</td>\n",
       "      <td>0.008001</td>\n",
       "      <td>147.75.48.193</td>\n",
       "      <td>rcnn-ilsvrc13-7.onnx</td>\n",
       "    </tr>\n",
       "    <tr>\n",
       "      <th>2</th>\n",
       "      <td>946.99</td>\n",
       "      <td>0.999</td>\n",
       "      <td>3.133359e+09</td>\n",
       "      <td>3.309</td>\n",
       "      <td>5.934516e+09</td>\n",
       "      <td>1.89</td>\n",
       "      <td>5.235067e+08</td>\n",
       "      <td>830.757</td>\n",
       "      <td>23788451.0</td>\n",
       "      <td>4.544</td>\n",
       "      <td>7.867177e+08</td>\n",
       "      <td>7747491.0</td>\n",
       "      <td>0.0098</td>\n",
       "      <td>0.947744</td>\n",
       "      <td>0.943293</td>\n",
       "      <td>0.004014</td>\n",
       "      <td>147.28.128.247</td>\n",
       "      <td>rcnn-ilsvrc13-7.onnx</td>\n",
       "    </tr>\n",
       "    <tr>\n",
       "      <th>3</th>\n",
       "      <td>585.70</td>\n",
       "      <td>1.000</td>\n",
       "      <td>2.782024e+09</td>\n",
       "      <td>4.750</td>\n",
       "      <td>5.966425e+09</td>\n",
       "      <td>2.14</td>\n",
       "      <td>7.297117e+07</td>\n",
       "      <td>1349.913</td>\n",
       "      <td>5317091.0</td>\n",
       "      <td>7.287</td>\n",
       "      <td>7.906461e+08</td>\n",
       "      <td>1116730.0</td>\n",
       "      <td>0.0014</td>\n",
       "      <td>0.585905</td>\n",
       "      <td>0.581907</td>\n",
       "      <td>0.004013</td>\n",
       "      <td>145.40.69.165</td>\n",
       "      <td>rcnn-ilsvrc13-7.onnx</td>\n",
       "    </tr>\n",
       "    <tr>\n",
       "      <th>4</th>\n",
       "      <td>949.79</td>\n",
       "      <td>1.000</td>\n",
       "      <td>3.159559e+09</td>\n",
       "      <td>3.327</td>\n",
       "      <td>5.934091e+09</td>\n",
       "      <td>1.88</td>\n",
       "      <td>5.489181e+08</td>\n",
       "      <td>828.206</td>\n",
       "      <td>26327077.0</td>\n",
       "      <td>4.796</td>\n",
       "      <td>7.866257e+08</td>\n",
       "      <td>7686908.0</td>\n",
       "      <td>0.0098</td>\n",
       "      <td>0.950063</td>\n",
       "      <td>0.942000</td>\n",
       "      <td>0.008017</td>\n",
       "      <td>93.187.218.93</td>\n",
       "      <td>rcnn-ilsvrc13-6.onnx</td>\n",
       "    </tr>\n",
       "    <tr>\n",
       "      <th>...</th>\n",
       "      <td>...</td>\n",
       "      <td>...</td>\n",
       "      <td>...</td>\n",
       "      <td>...</td>\n",
       "      <td>...</td>\n",
       "      <td>...</td>\n",
       "      <td>...</td>\n",
       "      <td>...</td>\n",
       "      <td>...</td>\n",
       "      <td>...</td>\n",
       "      <td>...</td>\n",
       "      <td>...</td>\n",
       "      <td>...</td>\n",
       "      <td>...</td>\n",
       "      <td>...</td>\n",
       "      <td>...</td>\n",
       "      <td>...</td>\n",
       "      <td>...</td>\n",
       "    </tr>\n",
       "    <tr>\n",
       "      <th>355</th>\n",
       "      <td>15602.29</td>\n",
       "      <td>1.000</td>\n",
       "      <td>7.758953e+10</td>\n",
       "      <td>4.973</td>\n",
       "      <td>2.039151e+11</td>\n",
       "      <td>2.63</td>\n",
       "      <td>1.084045e+10</td>\n",
       "      <td>1768.891</td>\n",
       "      <td>17182511.0</td>\n",
       "      <td>0.159</td>\n",
       "      <td>2.759874e+10</td>\n",
       "      <td>12572911.0</td>\n",
       "      <td>0.0005</td>\n",
       "      <td>15.602797</td>\n",
       "      <td>15.574609</td>\n",
       "      <td>0.027997</td>\n",
       "      <td>145.40.69.165</td>\n",
       "      <td>vgg19-bn-7.onnx</td>\n",
       "    </tr>\n",
       "    <tr>\n",
       "      <th>356</th>\n",
       "      <td>6805.42</td>\n",
       "      <td>1.000</td>\n",
       "      <td>2.257900e+10</td>\n",
       "      <td>3.318</td>\n",
       "      <td>2.629949e+10</td>\n",
       "      <td>1.16</td>\n",
       "      <td>2.658240e+09</td>\n",
       "      <td>134.675</td>\n",
       "      <td>9278653.0</td>\n",
       "      <td>0.349</td>\n",
       "      <td>9.165208e+08</td>\n",
       "      <td>5318887.0</td>\n",
       "      <td>0.0058</td>\n",
       "      <td>6.806756</td>\n",
       "      <td>6.785638</td>\n",
       "      <td>0.020004</td>\n",
       "      <td>93.187.218.93</td>\n",
       "      <td>rain-princess-8.onnx</td>\n",
       "    </tr>\n",
       "    <tr>\n",
       "      <th>357</th>\n",
       "      <td>9851.65</td>\n",
       "      <td>1.000</td>\n",
       "      <td>3.029029e+10</td>\n",
       "      <td>3.075</td>\n",
       "      <td>2.630633e+10</td>\n",
       "      <td>0.87</td>\n",
       "      <td>6.783535e+07</td>\n",
       "      <td>93.156</td>\n",
       "      <td>3007188.0</td>\n",
       "      <td>4.433</td>\n",
       "      <td>9.177398e+08</td>\n",
       "      <td>8226932.0</td>\n",
       "      <td>0.0090</td>\n",
       "      <td>9.852266</td>\n",
       "      <td>9.836315</td>\n",
       "      <td>0.016000</td>\n",
       "      <td>147.75.48.193</td>\n",
       "      <td>rain-princess-8.onnx</td>\n",
       "    </tr>\n",
       "    <tr>\n",
       "      <th>358</th>\n",
       "      <td>6774.22</td>\n",
       "      <td>1.000</td>\n",
       "      <td>2.260324e+10</td>\n",
       "      <td>3.337</td>\n",
       "      <td>2.630216e+10</td>\n",
       "      <td>1.16</td>\n",
       "      <td>2.657416e+09</td>\n",
       "      <td>135.384</td>\n",
       "      <td>15106729.0</td>\n",
       "      <td>0.568</td>\n",
       "      <td>9.171201e+08</td>\n",
       "      <td>5330166.0</td>\n",
       "      <td>0.0058</td>\n",
       "      <td>6.776973</td>\n",
       "      <td>6.753681</td>\n",
       "      <td>0.019993</td>\n",
       "      <td>147.28.128.247</td>\n",
       "      <td>rain-princess-8.onnx</td>\n",
       "    </tr>\n",
       "    <tr>\n",
       "      <th>359</th>\n",
       "      <td>6078.39</td>\n",
       "      <td>1.000</td>\n",
       "      <td>3.017877e+10</td>\n",
       "      <td>4.965</td>\n",
       "      <td>2.630133e+10</td>\n",
       "      <td>0.87</td>\n",
       "      <td>1.084685e+09</td>\n",
       "      <td>150.826</td>\n",
       "      <td>3387114.0</td>\n",
       "      <td>0.312</td>\n",
       "      <td>9.167778e+08</td>\n",
       "      <td>5306512.0</td>\n",
       "      <td>0.0058</td>\n",
       "      <td>6.078658</td>\n",
       "      <td>6.066589</td>\n",
       "      <td>0.011997</td>\n",
       "      <td>145.40.69.165</td>\n",
       "      <td>rain-princess-8.onnx</td>\n",
       "    </tr>\n",
       "  </tbody>\n",
       "</table>\n",
       "<p>360 rows × 18 columns</p>\n",
       "</div>"
      ],
      "text/plain": [
       "     msec task-clock  CPUs utilized        cycles    GHz  instructions  \\\n",
       "0             954.08          1.000  3.164130e+09  3.316  5.934072e+09   \n",
       "1             939.60          0.999  2.739255e+09  2.915  5.934294e+09   \n",
       "2             946.99          0.999  3.133359e+09  3.309  5.934516e+09   \n",
       "3             585.70          1.000  2.782024e+09  4.750  5.966425e+09   \n",
       "4             949.79          1.000  3.159559e+09  3.327  5.934091e+09   \n",
       "..               ...            ...           ...    ...           ...   \n",
       "355         15602.29          1.000  7.758953e+10  4.973  2.039151e+11   \n",
       "356          6805.42          1.000  2.257900e+10  3.318  2.629949e+10   \n",
       "357          9851.65          1.000  3.029029e+10  3.075  2.630633e+10   \n",
       "358          6774.22          1.000  2.260324e+10  3.337  2.630216e+10   \n",
       "359          6078.39          1.000  3.017877e+10  4.965  2.630133e+10   \n",
       "\n",
       "     insn per cycle  cache-references     M/sec  cache-misses  \\\n",
       "0              1.88      5.247691e+08   824.483    26231599.0   \n",
       "1              2.17      5.257923e+06   837.232     4143852.0   \n",
       "2              1.89      5.235067e+08   830.757    23788451.0   \n",
       "3              2.14      7.297117e+07  1349.913     5317091.0   \n",
       "4              1.88      5.489181e+08   828.206    26327077.0   \n",
       "..              ...               ...       ...           ...   \n",
       "355            2.63      1.084045e+10  1768.891    17182511.0   \n",
       "356            1.16      2.658240e+09   134.675     9278653.0   \n",
       "357            0.87      6.783535e+07    93.156     3007188.0   \n",
       "358            1.16      2.657416e+09   135.384    15106729.0   \n",
       "359            0.87      1.084685e+09   150.826     3387114.0   \n",
       "\n",
       "     % of all cache refs      branches  branch-misses  of all branches  \\\n",
       "0                  4.999  7.866217e+08      7729330.0           0.0098   \n",
       "1                 78.812  7.866668e+08      1127138.0           0.0014   \n",
       "2                  4.544  7.867177e+08      7747491.0           0.0098   \n",
       "3                  7.287  7.906461e+08      1116730.0           0.0014   \n",
       "4                  4.796  7.866257e+08      7686908.0           0.0098   \n",
       "..                   ...           ...            ...              ...   \n",
       "355                0.159  2.759874e+10     12572911.0           0.0005   \n",
       "356                0.349  9.165208e+08      5318887.0           0.0058   \n",
       "357                4.433  9.177398e+08      8226932.0           0.0090   \n",
       "358                0.568  9.171201e+08      5330166.0           0.0058   \n",
       "359                0.312  9.167778e+08      5306512.0           0.0058   \n",
       "\n",
       "     seconds time elapsed  seconds user  seconds sys            host  \\\n",
       "0                0.954343      0.946285     0.008019   93.187.218.93   \n",
       "1                0.940093      0.932194     0.008001   147.75.48.193   \n",
       "2                0.947744      0.943293     0.004014  147.28.128.247   \n",
       "3                0.585905      0.581907     0.004013   145.40.69.165   \n",
       "4                0.950063      0.942000     0.008017   93.187.218.93   \n",
       "..                    ...           ...          ...             ...   \n",
       "355             15.602797     15.574609     0.027997   145.40.69.165   \n",
       "356              6.806756      6.785638     0.020004   93.187.218.93   \n",
       "357              9.852266      9.836315     0.016000   147.75.48.193   \n",
       "358              6.776973      6.753681     0.019993  147.28.128.247   \n",
       "359              6.078658      6.066589     0.011997   145.40.69.165   \n",
       "\n",
       "                    model  \n",
       "0    rcnn-ilsvrc13-7.onnx  \n",
       "1    rcnn-ilsvrc13-7.onnx  \n",
       "2    rcnn-ilsvrc13-7.onnx  \n",
       "3    rcnn-ilsvrc13-7.onnx  \n",
       "4    rcnn-ilsvrc13-6.onnx  \n",
       "..                    ...  \n",
       "355       vgg19-bn-7.onnx  \n",
       "356  rain-princess-8.onnx  \n",
       "357  rain-princess-8.onnx  \n",
       "358  rain-princess-8.onnx  \n",
       "359  rain-princess-8.onnx  \n",
       "\n",
       "[360 rows x 18 columns]"
      ]
     },
     "execution_count": 14,
     "metadata": {},
     "output_type": "execute_result"
    }
   ],
   "source": [
    "df_raw"
   ]
  },
  {
   "cell_type": "code",
   "execution_count": 15,
   "id": "6817e661-f721-4271-b06a-66a186456f70",
   "metadata": {},
   "outputs": [
    {
     "data": {
      "text/plain": [
       "{'ResNet101-DUC-7.onnx',\n",
       " 'arcfaceresnet100-8.onnx',\n",
       " 'bvlcalexnet-6.onnx',\n",
       " 'bvlcalexnet-7.onnx',\n",
       " 'bvlcalexnet-8.onnx',\n",
       " 'bvlcalexnet-9.onnx',\n",
       " 'caffenet-6.onnx',\n",
       " 'caffenet-7.onnx',\n",
       " 'caffenet-8.onnx',\n",
       " 'caffenet-9.onnx',\n",
       " 'candy-8.onnx',\n",
       " 'candy-9.onnx',\n",
       " 'densenet-6.onnx',\n",
       " 'densenet-7.onnx',\n",
       " 'densenet-8.onnx',\n",
       " 'densenet-9.onnx',\n",
       " 'efficientnet-lite4-11.onnx',\n",
       " 'emotion-ferplus-7.onnx',\n",
       " 'emotion-ferplus-8.onnx',\n",
       " 'googlenet-3.onnx',\n",
       " 'googlenet-6.onnx',\n",
       " 'googlenet-7.onnx',\n",
       " 'googlenet-8.onnx',\n",
       " 'googlenet-9.onnx',\n",
       " 'inception-v1-6.onnx',\n",
       " 'inception-v1-7.onnx',\n",
       " 'inception-v1-8.onnx',\n",
       " 'inception-v1-9.onnx',\n",
       " 'inception-v2-7.onnx',\n",
       " 'inception-v2-8.onnx',\n",
       " 'inception-v2-9.onnx',\n",
       " 'mnist-7.onnx',\n",
       " 'mnist-8.onnx',\n",
       " 'mosaic-8.onnx',\n",
       " 'mosaic-9.onnx',\n",
       " 'pointilism-8.onnx',\n",
       " 'pointilism-9.onnx',\n",
       " 'rain-princess-8.onnx',\n",
       " 'rain-princess-9.onnx',\n",
       " 'rcnn-ilsvrc13-6.onnx',\n",
       " 'rcnn-ilsvrc13-7.onnx',\n",
       " 'rcnn-ilsvrc13-8.onnx',\n",
       " 'rcnn-ilsvrc13-9.onnx',\n",
       " 'resnet101-v1-7.onnx',\n",
       " 'resnet101-v2-7.onnx',\n",
       " 'resnet152-v1-7.onnx',\n",
       " 'resnet152-v2-7.onnx',\n",
       " 'resnet18-v1-7.onnx',\n",
       " 'resnet18-v2-7.onnx',\n",
       " 'resnet34-v1-7.onnx',\n",
       " 'resnet34-v2-7.onnx',\n",
       " 'resnet50-caffe2-v1-6.onnx',\n",
       " 'resnet50-caffe2-v1-7.onnx',\n",
       " 'resnet50-caffe2-v1-8.onnx',\n",
       " 'resnet50-caffe2-v1-9.onnx',\n",
       " 'resnet50-v1-12.onnx',\n",
       " 'resnet50-v1-7.onnx',\n",
       " 'resnet50-v2-7.onnx',\n",
       " 'retinanet-9.onnx',\n",
       " 'shufflenet-6.onnx',\n",
       " 'shufflenet-7.onnx',\n",
       " 'shufflenet-8.onnx',\n",
       " 'shufflenet-9.onnx',\n",
       " 'shufflenet-v2-10.onnx',\n",
       " 'shufflenet-v2-12.onnx',\n",
       " 'squeezenet1.0-3.onnx',\n",
       " 'squeezenet1.0-6.onnx',\n",
       " 'squeezenet1.0-7.onnx',\n",
       " 'squeezenet1.0-8.onnx',\n",
       " 'squeezenet1.0-9.onnx',\n",
       " 'squeezenet1.1-7.onnx',\n",
       " 'ssd-10.onnx',\n",
       " 'udnie-8.onnx',\n",
       " 'udnie-9.onnx',\n",
       " 'version-RFB-320.onnx',\n",
       " 'version-RFB-640.onnx',\n",
       " 'vgg16-12.onnx',\n",
       " 'vgg16-7.onnx',\n",
       " 'vgg16-bn-7.onnx',\n",
       " 'vgg19-7.onnx',\n",
       " 'vgg19-bn-7.onnx',\n",
       " 'vgg19-caffe2-6.onnx',\n",
       " 'vgg19-caffe2-7.onnx',\n",
       " 'vgg19-caffe2-8.onnx',\n",
       " 'vgg19-caffe2-9.onnx',\n",
       " 'yolov2-coco-9.onnx',\n",
       " 'zfnet512-6.onnx',\n",
       " 'zfnet512-7.onnx',\n",
       " 'zfnet512-8.onnx',\n",
       " 'zfnet512-9.onnx'}"
      ]
     },
     "execution_count": 15,
     "metadata": {},
     "output_type": "execute_result"
    }
   ],
   "source": [
    "set(df_raw.model)"
   ]
  },
  {
   "cell_type": "code",
   "execution_count": 16,
   "id": "5f119fec-4e6e-46da-bab3-f7b9ff20a692",
   "metadata": {},
   "outputs": [],
   "source": [
    "accepted_models=[ \n",
    " 'resnet101-v2-7.onnx',\n",
    " 'resnet152-v2-7.onnx',\n",
    " 'resnet18-v2-7.onnx',\n",
    " 'resnet34-v2-7.onnx',\n",
    " 'resnet50-v2-7.onnx',\n",
    "]"
   ]
  },
  {
   "cell_type": "code",
   "execution_count": 17,
   "id": "1d5a2e44-65da-452d-94b4-9a1e5b53cf00",
   "metadata": {},
   "outputs": [
    {
     "data": {
      "text/plain": [
       "{'145.40.69.165', '147.28.128.247', '147.75.48.193', '93.187.218.93'}"
      ]
     },
     "execution_count": 17,
     "metadata": {},
     "output_type": "execute_result"
    }
   ],
   "source": [
    "set(df_raw.host)"
   ]
  },
  {
   "cell_type": "code",
   "execution_count": 41,
   "id": "f56f0d77-3278-4e30-9567-3b021d7b5f94",
   "metadata": {},
   "outputs": [],
   "source": [
    "def host_map(host):\n",
    "    m = {'145.40.69.165':0 , '147.28.128.247': 2, '147.75.48.193':3 , '93.187.218.93':1}\n",
    "    return m[host]\n"
   ]
  },
  {
   "cell_type": "code",
   "execution_count": 42,
   "id": "6a7950db-118f-457a-a6bf-ea06fbdad88f",
   "metadata": {},
   "outputs": [],
   "source": [
    "def model_map(model):\n",
    "    if \"resnet\" in model:\n",
    "        return int(model.split(\"-\")[0][6:])"
   ]
  },
  {
   "cell_type": "code",
   "execution_count": 43,
   "id": "f40cbb81-055a-4aa5-8733-0bef2c3de946",
   "metadata": {},
   "outputs": [],
   "source": []
  },
  {
   "cell_type": "code",
   "execution_count": 73,
   "id": "f7a2c814-18bd-41e2-96a0-0b157fac3ea5",
   "metadata": {},
   "outputs": [],
   "source": [
    "df = df_raw[df_raw.model.isin(accepted_models)].copy()"
   ]
  },
  {
   "cell_type": "code",
   "execution_count": 74,
   "id": "04ddfb9f-9d89-4f2f-95a6-e514aaa8dfd3",
   "metadata": {},
   "outputs": [],
   "source": [
    "df[\"machine_size\"] = df.host.map(host_map)\n",
    "df[\"model_size\"] = df.model.map(model_map)"
   ]
  },
  {
   "cell_type": "code",
   "execution_count": 75,
   "id": "4cccc972-ade8-4e2d-9a70-51e8275a8274",
   "metadata": {},
   "outputs": [
    {
     "data": {
      "text/plain": [
       "Index(['msec task-clock', 'CPUs utilized', 'cycles', 'GHz', 'instructions',\n",
       "       'insn per cycle', 'cache-references', 'M/sec', 'cache-misses',\n",
       "       '% of all cache refs', 'branches', 'branch-misses', 'of all branches',\n",
       "       'seconds time elapsed', 'seconds user', 'seconds sys', 'host', 'model',\n",
       "       'machine_size', 'model_size'],\n",
       "      dtype='object')"
      ]
     },
     "execution_count": 75,
     "metadata": {},
     "output_type": "execute_result"
    }
   ],
   "source": [
    "df.columns"
   ]
  },
  {
   "cell_type": "code",
   "execution_count": 76,
   "id": "1a8a22e6-811f-4c1d-bab2-2c881a268d90",
   "metadata": {},
   "outputs": [],
   "source": [
    "df[\"miss_rate\"] = df[\"cache-misses\"] / df[\"cache-references\"]"
   ]
  },
  {
   "cell_type": "code",
   "execution_count": 77,
   "id": "053400f3-53c7-4dc0-b350-ce00f663cb86",
   "metadata": {},
   "outputs": [],
   "source": [
    "import numpy as np"
   ]
  },
  {
   "cell_type": "code",
   "execution_count": 78,
   "id": "c2f48779-d00e-4f21-ac73-db2da3fdeb27",
   "metadata": {},
   "outputs": [],
   "source": [
    "from sklearn.neural_network import MLPRegressor"
   ]
  },
  {
   "cell_type": "code",
   "execution_count": 79,
   "id": "6ef7660b-ba7b-49f6-86fc-ec5399e3ccb3",
   "metadata": {},
   "outputs": [],
   "source": [
    "import plotly.express as px"
   ]
  },
  {
   "cell_type": "code",
   "execution_count": 80,
   "id": "51ec58cb-891c-4ac0-8442-0ab339c90684",
   "metadata": {},
   "outputs": [],
   "source": [
    "import chart_studio.plotly as py\n"
   ]
  },
  {
   "cell_type": "code",
   "execution_count": 81,
   "id": "94433ac2-c164-4e69-af7e-0a14cea7f565",
   "metadata": {},
   "outputs": [],
   "source": [
    "import chart_studio\n",
    "\n",
    "chart_studio.tools.set_credentials_file(username='cedar_ren', api_key='X8tRodKST4CoNSnsi9mY')"
   ]
  },
  {
   "cell_type": "code",
   "execution_count": 85,
   "id": "b1e2b8ca-704a-4e78-a520-8f4149962da6",
   "metadata": {},
   "outputs": [],
   "source": [
    "zname = \"miss_rate\""
   ]
  },
  {
   "cell_type": "code",
   "execution_count": 86,
   "id": "076fc8b9-dd8a-4128-9500-ef2dec675ba0",
   "metadata": {},
   "outputs": [
    {
     "data": {
      "application/vnd.plotly.v1+json": {
       "config": {
        "plotlyServerURL": "https://plotly.com"
       },
       "data": [
        {
         "hovertemplate": "machine_size=%{x}<br>model_size=%{y}<br>miss_rate=%{z}<extra></extra>",
         "legendgroup": "",
         "marker": {
          "color": "#636efa",
          "size": 5,
          "symbol": "circle"
         },
         "mode": "markers",
         "name": "",
         "scene": "scene",
         "showlegend": false,
         "type": "scatter3d",
         "x": [
          1,
          3,
          2,
          0,
          1,
          3,
          2,
          0,
          1,
          3,
          2,
          0,
          1,
          3,
          2,
          0,
          1,
          3,
          2,
          0
         ],
         "y": [
          34,
          34,
          34,
          34,
          152,
          152,
          152,
          152,
          50,
          50,
          50,
          50,
          101,
          101,
          101,
          101,
          18,
          18,
          18,
          18
         ],
         "z": [
          0.0027276652715884763,
          0.2345431195500862,
          0.0027624187738985264,
          0.005913452307566479,
          0.016597914589675265,
          0.013476463820054293,
          0.01788809796306477,
          0.002301295651514349,
          0.021745048239898042,
          0.014460800419165774,
          0.022234021992961123,
          0.00307236917439321,
          0.016807015449749076,
          0.016675517387991178,
          0.020256249391151993,
          0.002560130961935119,
          0.004230134753172985,
          0.10709432641895127,
          0.004619232702993352,
          0.009310745967335486
         ]
        }
       ],
       "layout": {
        "autosize": true,
        "legend": {
         "tracegroupgap": 0
        },
        "margin": {
         "t": 60
        },
        "scene": {
         "aspectmode": "auto",
         "aspectratio": {
          "x": 1,
          "y": 1,
          "z": 1
         },
         "domain": {
          "x": [
           0,
           1
          ],
          "y": [
           0,
           1
          ]
         },
         "xaxis": {
          "title": {
           "text": "machine_size"
          },
          "type": "linear"
         },
         "yaxis": {
          "title": {
           "text": "model_size"
          },
          "type": "linear"
         },
         "zaxis": {
          "title": {
           "text": "miss_rate"
          },
          "type": "linear"
         }
        },
        "template": {
         "data": {
          "bar": [
           {
            "error_x": {
             "color": "#2a3f5f"
            },
            "error_y": {
             "color": "#2a3f5f"
            },
            "marker": {
             "line": {
              "color": "#E5ECF6",
              "width": 0.5
             },
             "pattern": {
              "fillmode": "overlay",
              "size": 10,
              "solidity": 0.2
             }
            },
            "type": "bar"
           }
          ],
          "barpolar": [
           {
            "marker": {
             "line": {
              "color": "#E5ECF6",
              "width": 0.5
             },
             "pattern": {
              "fillmode": "overlay",
              "size": 10,
              "solidity": 0.2
             }
            },
            "type": "barpolar"
           }
          ],
          "carpet": [
           {
            "aaxis": {
             "endlinecolor": "#2a3f5f",
             "gridcolor": "white",
             "linecolor": "white",
             "minorgridcolor": "white",
             "startlinecolor": "#2a3f5f"
            },
            "baxis": {
             "endlinecolor": "#2a3f5f",
             "gridcolor": "white",
             "linecolor": "white",
             "minorgridcolor": "white",
             "startlinecolor": "#2a3f5f"
            },
            "type": "carpet"
           }
          ],
          "choropleth": [
           {
            "colorbar": {
             "outlinewidth": 0,
             "ticks": ""
            },
            "type": "choropleth"
           }
          ],
          "contour": [
           {
            "colorbar": {
             "outlinewidth": 0,
             "ticks": ""
            },
            "colorscale": [
             [
              0,
              "#0d0887"
             ],
             [
              0.1111111111111111,
              "#46039f"
             ],
             [
              0.2222222222222222,
              "#7201a8"
             ],
             [
              0.3333333333333333,
              "#9c179e"
             ],
             [
              0.4444444444444444,
              "#bd3786"
             ],
             [
              0.5555555555555556,
              "#d8576b"
             ],
             [
              0.6666666666666666,
              "#ed7953"
             ],
             [
              0.7777777777777778,
              "#fb9f3a"
             ],
             [
              0.8888888888888888,
              "#fdca26"
             ],
             [
              1,
              "#f0f921"
             ]
            ],
            "type": "contour"
           }
          ],
          "contourcarpet": [
           {
            "colorbar": {
             "outlinewidth": 0,
             "ticks": ""
            },
            "type": "contourcarpet"
           }
          ],
          "heatmap": [
           {
            "colorbar": {
             "outlinewidth": 0,
             "ticks": ""
            },
            "colorscale": [
             [
              0,
              "#0d0887"
             ],
             [
              0.1111111111111111,
              "#46039f"
             ],
             [
              0.2222222222222222,
              "#7201a8"
             ],
             [
              0.3333333333333333,
              "#9c179e"
             ],
             [
              0.4444444444444444,
              "#bd3786"
             ],
             [
              0.5555555555555556,
              "#d8576b"
             ],
             [
              0.6666666666666666,
              "#ed7953"
             ],
             [
              0.7777777777777778,
              "#fb9f3a"
             ],
             [
              0.8888888888888888,
              "#fdca26"
             ],
             [
              1,
              "#f0f921"
             ]
            ],
            "type": "heatmap"
           }
          ],
          "heatmapgl": [
           {
            "colorbar": {
             "outlinewidth": 0,
             "ticks": ""
            },
            "colorscale": [
             [
              0,
              "#0d0887"
             ],
             [
              0.1111111111111111,
              "#46039f"
             ],
             [
              0.2222222222222222,
              "#7201a8"
             ],
             [
              0.3333333333333333,
              "#9c179e"
             ],
             [
              0.4444444444444444,
              "#bd3786"
             ],
             [
              0.5555555555555556,
              "#d8576b"
             ],
             [
              0.6666666666666666,
              "#ed7953"
             ],
             [
              0.7777777777777778,
              "#fb9f3a"
             ],
             [
              0.8888888888888888,
              "#fdca26"
             ],
             [
              1,
              "#f0f921"
             ]
            ],
            "type": "heatmapgl"
           }
          ],
          "histogram": [
           {
            "marker": {
             "pattern": {
              "fillmode": "overlay",
              "size": 10,
              "solidity": 0.2
             }
            },
            "type": "histogram"
           }
          ],
          "histogram2d": [
           {
            "colorbar": {
             "outlinewidth": 0,
             "ticks": ""
            },
            "colorscale": [
             [
              0,
              "#0d0887"
             ],
             [
              0.1111111111111111,
              "#46039f"
             ],
             [
              0.2222222222222222,
              "#7201a8"
             ],
             [
              0.3333333333333333,
              "#9c179e"
             ],
             [
              0.4444444444444444,
              "#bd3786"
             ],
             [
              0.5555555555555556,
              "#d8576b"
             ],
             [
              0.6666666666666666,
              "#ed7953"
             ],
             [
              0.7777777777777778,
              "#fb9f3a"
             ],
             [
              0.8888888888888888,
              "#fdca26"
             ],
             [
              1,
              "#f0f921"
             ]
            ],
            "type": "histogram2d"
           }
          ],
          "histogram2dcontour": [
           {
            "colorbar": {
             "outlinewidth": 0,
             "ticks": ""
            },
            "colorscale": [
             [
              0,
              "#0d0887"
             ],
             [
              0.1111111111111111,
              "#46039f"
             ],
             [
              0.2222222222222222,
              "#7201a8"
             ],
             [
              0.3333333333333333,
              "#9c179e"
             ],
             [
              0.4444444444444444,
              "#bd3786"
             ],
             [
              0.5555555555555556,
              "#d8576b"
             ],
             [
              0.6666666666666666,
              "#ed7953"
             ],
             [
              0.7777777777777778,
              "#fb9f3a"
             ],
             [
              0.8888888888888888,
              "#fdca26"
             ],
             [
              1,
              "#f0f921"
             ]
            ],
            "type": "histogram2dcontour"
           }
          ],
          "mesh3d": [
           {
            "colorbar": {
             "outlinewidth": 0,
             "ticks": ""
            },
            "type": "mesh3d"
           }
          ],
          "parcoords": [
           {
            "line": {
             "colorbar": {
              "outlinewidth": 0,
              "ticks": ""
             }
            },
            "type": "parcoords"
           }
          ],
          "pie": [
           {
            "automargin": true,
            "type": "pie"
           }
          ],
          "scatter": [
           {
            "marker": {
             "colorbar": {
              "outlinewidth": 0,
              "ticks": ""
             }
            },
            "type": "scatter"
           }
          ],
          "scatter3d": [
           {
            "line": {
             "colorbar": {
              "outlinewidth": 0,
              "ticks": ""
             }
            },
            "marker": {
             "colorbar": {
              "outlinewidth": 0,
              "ticks": ""
             }
            },
            "type": "scatter3d"
           }
          ],
          "scattercarpet": [
           {
            "marker": {
             "colorbar": {
              "outlinewidth": 0,
              "ticks": ""
             }
            },
            "type": "scattercarpet"
           }
          ],
          "scattergeo": [
           {
            "marker": {
             "colorbar": {
              "outlinewidth": 0,
              "ticks": ""
             }
            },
            "type": "scattergeo"
           }
          ],
          "scattergl": [
           {
            "marker": {
             "colorbar": {
              "outlinewidth": 0,
              "ticks": ""
             }
            },
            "type": "scattergl"
           }
          ],
          "scattermapbox": [
           {
            "marker": {
             "colorbar": {
              "outlinewidth": 0,
              "ticks": ""
             }
            },
            "type": "scattermapbox"
           }
          ],
          "scatterpolar": [
           {
            "marker": {
             "colorbar": {
              "outlinewidth": 0,
              "ticks": ""
             }
            },
            "type": "scatterpolar"
           }
          ],
          "scatterpolargl": [
           {
            "marker": {
             "colorbar": {
              "outlinewidth": 0,
              "ticks": ""
             }
            },
            "type": "scatterpolargl"
           }
          ],
          "scatterternary": [
           {
            "marker": {
             "colorbar": {
              "outlinewidth": 0,
              "ticks": ""
             }
            },
            "type": "scatterternary"
           }
          ],
          "surface": [
           {
            "colorbar": {
             "outlinewidth": 0,
             "ticks": ""
            },
            "colorscale": [
             [
              0,
              "#0d0887"
             ],
             [
              0.1111111111111111,
              "#46039f"
             ],
             [
              0.2222222222222222,
              "#7201a8"
             ],
             [
              0.3333333333333333,
              "#9c179e"
             ],
             [
              0.4444444444444444,
              "#bd3786"
             ],
             [
              0.5555555555555556,
              "#d8576b"
             ],
             [
              0.6666666666666666,
              "#ed7953"
             ],
             [
              0.7777777777777778,
              "#fb9f3a"
             ],
             [
              0.8888888888888888,
              "#fdca26"
             ],
             [
              1,
              "#f0f921"
             ]
            ],
            "type": "surface"
           }
          ],
          "table": [
           {
            "cells": {
             "fill": {
              "color": "#EBF0F8"
             },
             "line": {
              "color": "white"
             }
            },
            "header": {
             "fill": {
              "color": "#C8D4E3"
             },
             "line": {
              "color": "white"
             }
            },
            "type": "table"
           }
          ]
         },
         "layout": {
          "annotationdefaults": {
           "arrowcolor": "#2a3f5f",
           "arrowhead": 0,
           "arrowwidth": 1
          },
          "autotypenumbers": "strict",
          "coloraxis": {
           "colorbar": {
            "outlinewidth": 0,
            "ticks": ""
           }
          },
          "colorscale": {
           "diverging": [
            [
             0,
             "#8e0152"
            ],
            [
             0.1,
             "#c51b7d"
            ],
            [
             0.2,
             "#de77ae"
            ],
            [
             0.3,
             "#f1b6da"
            ],
            [
             0.4,
             "#fde0ef"
            ],
            [
             0.5,
             "#f7f7f7"
            ],
            [
             0.6,
             "#e6f5d0"
            ],
            [
             0.7,
             "#b8e186"
            ],
            [
             0.8,
             "#7fbc41"
            ],
            [
             0.9,
             "#4d9221"
            ],
            [
             1,
             "#276419"
            ]
           ],
           "sequential": [
            [
             0,
             "#0d0887"
            ],
            [
             0.1111111111111111,
             "#46039f"
            ],
            [
             0.2222222222222222,
             "#7201a8"
            ],
            [
             0.3333333333333333,
             "#9c179e"
            ],
            [
             0.4444444444444444,
             "#bd3786"
            ],
            [
             0.5555555555555556,
             "#d8576b"
            ],
            [
             0.6666666666666666,
             "#ed7953"
            ],
            [
             0.7777777777777778,
             "#fb9f3a"
            ],
            [
             0.8888888888888888,
             "#fdca26"
            ],
            [
             1,
             "#f0f921"
            ]
           ],
           "sequentialminus": [
            [
             0,
             "#0d0887"
            ],
            [
             0.1111111111111111,
             "#46039f"
            ],
            [
             0.2222222222222222,
             "#7201a8"
            ],
            [
             0.3333333333333333,
             "#9c179e"
            ],
            [
             0.4444444444444444,
             "#bd3786"
            ],
            [
             0.5555555555555556,
             "#d8576b"
            ],
            [
             0.6666666666666666,
             "#ed7953"
            ],
            [
             0.7777777777777778,
             "#fb9f3a"
            ],
            [
             0.8888888888888888,
             "#fdca26"
            ],
            [
             1,
             "#f0f921"
            ]
           ]
          },
          "colorway": [
           "#636efa",
           "#EF553B",
           "#00cc96",
           "#ab63fa",
           "#FFA15A",
           "#19d3f3",
           "#FF6692",
           "#B6E880",
           "#FF97FF",
           "#FECB52"
          ],
          "font": {
           "color": "#2a3f5f"
          },
          "geo": {
           "bgcolor": "white",
           "lakecolor": "white",
           "landcolor": "#E5ECF6",
           "showlakes": true,
           "showland": true,
           "subunitcolor": "white"
          },
          "hoverlabel": {
           "align": "left"
          },
          "hovermode": "closest",
          "mapbox": {
           "style": "light"
          },
          "paper_bgcolor": "white",
          "plot_bgcolor": "#E5ECF6",
          "polar": {
           "angularaxis": {
            "gridcolor": "white",
            "linecolor": "white",
            "ticks": ""
           },
           "bgcolor": "#E5ECF6",
           "radialaxis": {
            "gridcolor": "white",
            "linecolor": "white",
            "ticks": ""
           }
          },
          "scene": {
           "xaxis": {
            "backgroundcolor": "#E5ECF6",
            "gridcolor": "white",
            "gridwidth": 2,
            "linecolor": "white",
            "showbackground": true,
            "ticks": "",
            "zerolinecolor": "white"
           },
           "yaxis": {
            "backgroundcolor": "#E5ECF6",
            "gridcolor": "white",
            "gridwidth": 2,
            "linecolor": "white",
            "showbackground": true,
            "ticks": "",
            "zerolinecolor": "white"
           },
           "zaxis": {
            "backgroundcolor": "#E5ECF6",
            "gridcolor": "white",
            "gridwidth": 2,
            "linecolor": "white",
            "showbackground": true,
            "ticks": "",
            "zerolinecolor": "white"
           }
          },
          "shapedefaults": {
           "line": {
            "color": "#2a3f5f"
           }
          },
          "ternary": {
           "aaxis": {
            "gridcolor": "white",
            "linecolor": "white",
            "ticks": ""
           },
           "baxis": {
            "gridcolor": "white",
            "linecolor": "white",
            "ticks": ""
           },
           "bgcolor": "#E5ECF6",
           "caxis": {
            "gridcolor": "white",
            "linecolor": "white",
            "ticks": ""
           }
          },
          "title": {
           "x": 0.05
          },
          "xaxis": {
           "automargin": true,
           "gridcolor": "white",
           "linecolor": "white",
           "ticks": "",
           "title": {
            "standoff": 15
           },
           "zerolinecolor": "white",
           "zerolinewidth": 2
          },
          "yaxis": {
           "automargin": true,
           "gridcolor": "white",
           "linecolor": "white",
           "ticks": "",
           "title": {
            "standoff": 15
           },
           "zerolinecolor": "white",
           "zerolinewidth": 2
          }
         }
        }
       }
      },
      "text/html": [
       "<div>                            <div id=\"6c785fa7-b807-4421-b779-833376ad7962\" class=\"plotly-graph-div\" style=\"height:525px; width:100%;\"></div>            <script type=\"text/javascript\">                require([\"plotly\"], function(Plotly) {                    window.PLOTLYENV=window.PLOTLYENV || {};                                    if (document.getElementById(\"6c785fa7-b807-4421-b779-833376ad7962\")) {                    Plotly.newPlot(                        \"6c785fa7-b807-4421-b779-833376ad7962\",                        [{\"hovertemplate\":\"machine_size=%{x}<br>model_size=%{y}<br>miss_rate=%{z}<extra></extra>\",\"legendgroup\":\"\",\"marker\":{\"color\":\"#636efa\",\"symbol\":\"circle\",\"size\":5},\"mode\":\"markers\",\"name\":\"\",\"scene\":\"scene\",\"showlegend\":false,\"x\":[1,3,2,0,1,3,2,0,1,3,2,0,1,3,2,0,1,3,2,0],\"y\":[34,34,34,34,152,152,152,152,50,50,50,50,101,101,101,101,18,18,18,18],\"z\":[0.0027276652715884763,0.2345431195500862,0.0027624187738985264,0.005913452307566479,0.016597914589675265,0.013476463820054293,0.01788809796306477,0.002301295651514349,0.021745048239898042,0.014460800419165774,0.022234021992961123,0.00307236917439321,0.016807015449749076,0.016675517387991178,0.020256249391151993,0.002560130961935119,0.004230134753172985,0.10709432641895127,0.004619232702993352,0.009310745967335486],\"type\":\"scatter3d\"}],                        {\"template\":{\"data\":{\"bar\":[{\"error_x\":{\"color\":\"#2a3f5f\"},\"error_y\":{\"color\":\"#2a3f5f\"},\"marker\":{\"line\":{\"color\":\"#E5ECF6\",\"width\":0.5},\"pattern\":{\"fillmode\":\"overlay\",\"size\":10,\"solidity\":0.2}},\"type\":\"bar\"}],\"barpolar\":[{\"marker\":{\"line\":{\"color\":\"#E5ECF6\",\"width\":0.5},\"pattern\":{\"fillmode\":\"overlay\",\"size\":10,\"solidity\":0.2}},\"type\":\"barpolar\"}],\"carpet\":[{\"aaxis\":{\"endlinecolor\":\"#2a3f5f\",\"gridcolor\":\"white\",\"linecolor\":\"white\",\"minorgridcolor\":\"white\",\"startlinecolor\":\"#2a3f5f\"},\"baxis\":{\"endlinecolor\":\"#2a3f5f\",\"gridcolor\":\"white\",\"linecolor\":\"white\",\"minorgridcolor\":\"white\",\"startlinecolor\":\"#2a3f5f\"},\"type\":\"carpet\"}],\"choropleth\":[{\"colorbar\":{\"outlinewidth\":0,\"ticks\":\"\"},\"type\":\"choropleth\"}],\"contour\":[{\"colorbar\":{\"outlinewidth\":0,\"ticks\":\"\"},\"colorscale\":[[0.0,\"#0d0887\"],[0.1111111111111111,\"#46039f\"],[0.2222222222222222,\"#7201a8\"],[0.3333333333333333,\"#9c179e\"],[0.4444444444444444,\"#bd3786\"],[0.5555555555555556,\"#d8576b\"],[0.6666666666666666,\"#ed7953\"],[0.7777777777777778,\"#fb9f3a\"],[0.8888888888888888,\"#fdca26\"],[1.0,\"#f0f921\"]],\"type\":\"contour\"}],\"contourcarpet\":[{\"colorbar\":{\"outlinewidth\":0,\"ticks\":\"\"},\"type\":\"contourcarpet\"}],\"heatmap\":[{\"colorbar\":{\"outlinewidth\":0,\"ticks\":\"\"},\"colorscale\":[[0.0,\"#0d0887\"],[0.1111111111111111,\"#46039f\"],[0.2222222222222222,\"#7201a8\"],[0.3333333333333333,\"#9c179e\"],[0.4444444444444444,\"#bd3786\"],[0.5555555555555556,\"#d8576b\"],[0.6666666666666666,\"#ed7953\"],[0.7777777777777778,\"#fb9f3a\"],[0.8888888888888888,\"#fdca26\"],[1.0,\"#f0f921\"]],\"type\":\"heatmap\"}],\"heatmapgl\":[{\"colorbar\":{\"outlinewidth\":0,\"ticks\":\"\"},\"colorscale\":[[0.0,\"#0d0887\"],[0.1111111111111111,\"#46039f\"],[0.2222222222222222,\"#7201a8\"],[0.3333333333333333,\"#9c179e\"],[0.4444444444444444,\"#bd3786\"],[0.5555555555555556,\"#d8576b\"],[0.6666666666666666,\"#ed7953\"],[0.7777777777777778,\"#fb9f3a\"],[0.8888888888888888,\"#fdca26\"],[1.0,\"#f0f921\"]],\"type\":\"heatmapgl\"}],\"histogram\":[{\"marker\":{\"pattern\":{\"fillmode\":\"overlay\",\"size\":10,\"solidity\":0.2}},\"type\":\"histogram\"}],\"histogram2d\":[{\"colorbar\":{\"outlinewidth\":0,\"ticks\":\"\"},\"colorscale\":[[0.0,\"#0d0887\"],[0.1111111111111111,\"#46039f\"],[0.2222222222222222,\"#7201a8\"],[0.3333333333333333,\"#9c179e\"],[0.4444444444444444,\"#bd3786\"],[0.5555555555555556,\"#d8576b\"],[0.6666666666666666,\"#ed7953\"],[0.7777777777777778,\"#fb9f3a\"],[0.8888888888888888,\"#fdca26\"],[1.0,\"#f0f921\"]],\"type\":\"histogram2d\"}],\"histogram2dcontour\":[{\"colorbar\":{\"outlinewidth\":0,\"ticks\":\"\"},\"colorscale\":[[0.0,\"#0d0887\"],[0.1111111111111111,\"#46039f\"],[0.2222222222222222,\"#7201a8\"],[0.3333333333333333,\"#9c179e\"],[0.4444444444444444,\"#bd3786\"],[0.5555555555555556,\"#d8576b\"],[0.6666666666666666,\"#ed7953\"],[0.7777777777777778,\"#fb9f3a\"],[0.8888888888888888,\"#fdca26\"],[1.0,\"#f0f921\"]],\"type\":\"histogram2dcontour\"}],\"mesh3d\":[{\"colorbar\":{\"outlinewidth\":0,\"ticks\":\"\"},\"type\":\"mesh3d\"}],\"parcoords\":[{\"line\":{\"colorbar\":{\"outlinewidth\":0,\"ticks\":\"\"}},\"type\":\"parcoords\"}],\"pie\":[{\"automargin\":true,\"type\":\"pie\"}],\"scatter\":[{\"marker\":{\"colorbar\":{\"outlinewidth\":0,\"ticks\":\"\"}},\"type\":\"scatter\"}],\"scatter3d\":[{\"line\":{\"colorbar\":{\"outlinewidth\":0,\"ticks\":\"\"}},\"marker\":{\"colorbar\":{\"outlinewidth\":0,\"ticks\":\"\"}},\"type\":\"scatter3d\"}],\"scattercarpet\":[{\"marker\":{\"colorbar\":{\"outlinewidth\":0,\"ticks\":\"\"}},\"type\":\"scattercarpet\"}],\"scattergeo\":[{\"marker\":{\"colorbar\":{\"outlinewidth\":0,\"ticks\":\"\"}},\"type\":\"scattergeo\"}],\"scattergl\":[{\"marker\":{\"colorbar\":{\"outlinewidth\":0,\"ticks\":\"\"}},\"type\":\"scattergl\"}],\"scattermapbox\":[{\"marker\":{\"colorbar\":{\"outlinewidth\":0,\"ticks\":\"\"}},\"type\":\"scattermapbox\"}],\"scatterpolar\":[{\"marker\":{\"colorbar\":{\"outlinewidth\":0,\"ticks\":\"\"}},\"type\":\"scatterpolar\"}],\"scatterpolargl\":[{\"marker\":{\"colorbar\":{\"outlinewidth\":0,\"ticks\":\"\"}},\"type\":\"scatterpolargl\"}],\"scatterternary\":[{\"marker\":{\"colorbar\":{\"outlinewidth\":0,\"ticks\":\"\"}},\"type\":\"scatterternary\"}],\"surface\":[{\"colorbar\":{\"outlinewidth\":0,\"ticks\":\"\"},\"colorscale\":[[0.0,\"#0d0887\"],[0.1111111111111111,\"#46039f\"],[0.2222222222222222,\"#7201a8\"],[0.3333333333333333,\"#9c179e\"],[0.4444444444444444,\"#bd3786\"],[0.5555555555555556,\"#d8576b\"],[0.6666666666666666,\"#ed7953\"],[0.7777777777777778,\"#fb9f3a\"],[0.8888888888888888,\"#fdca26\"],[1.0,\"#f0f921\"]],\"type\":\"surface\"}],\"table\":[{\"cells\":{\"fill\":{\"color\":\"#EBF0F8\"},\"line\":{\"color\":\"white\"}},\"header\":{\"fill\":{\"color\":\"#C8D4E3\"},\"line\":{\"color\":\"white\"}},\"type\":\"table\"}]},\"layout\":{\"annotationdefaults\":{\"arrowcolor\":\"#2a3f5f\",\"arrowhead\":0,\"arrowwidth\":1},\"autotypenumbers\":\"strict\",\"coloraxis\":{\"colorbar\":{\"outlinewidth\":0,\"ticks\":\"\"}},\"colorscale\":{\"diverging\":[[0,\"#8e0152\"],[0.1,\"#c51b7d\"],[0.2,\"#de77ae\"],[0.3,\"#f1b6da\"],[0.4,\"#fde0ef\"],[0.5,\"#f7f7f7\"],[0.6,\"#e6f5d0\"],[0.7,\"#b8e186\"],[0.8,\"#7fbc41\"],[0.9,\"#4d9221\"],[1,\"#276419\"]],\"sequential\":[[0.0,\"#0d0887\"],[0.1111111111111111,\"#46039f\"],[0.2222222222222222,\"#7201a8\"],[0.3333333333333333,\"#9c179e\"],[0.4444444444444444,\"#bd3786\"],[0.5555555555555556,\"#d8576b\"],[0.6666666666666666,\"#ed7953\"],[0.7777777777777778,\"#fb9f3a\"],[0.8888888888888888,\"#fdca26\"],[1.0,\"#f0f921\"]],\"sequentialminus\":[[0.0,\"#0d0887\"],[0.1111111111111111,\"#46039f\"],[0.2222222222222222,\"#7201a8\"],[0.3333333333333333,\"#9c179e\"],[0.4444444444444444,\"#bd3786\"],[0.5555555555555556,\"#d8576b\"],[0.6666666666666666,\"#ed7953\"],[0.7777777777777778,\"#fb9f3a\"],[0.8888888888888888,\"#fdca26\"],[1.0,\"#f0f921\"]]},\"colorway\":[\"#636efa\",\"#EF553B\",\"#00cc96\",\"#ab63fa\",\"#FFA15A\",\"#19d3f3\",\"#FF6692\",\"#B6E880\",\"#FF97FF\",\"#FECB52\"],\"font\":{\"color\":\"#2a3f5f\"},\"geo\":{\"bgcolor\":\"white\",\"lakecolor\":\"white\",\"landcolor\":\"#E5ECF6\",\"showlakes\":true,\"showland\":true,\"subunitcolor\":\"white\"},\"hoverlabel\":{\"align\":\"left\"},\"hovermode\":\"closest\",\"mapbox\":{\"style\":\"light\"},\"paper_bgcolor\":\"white\",\"plot_bgcolor\":\"#E5ECF6\",\"polar\":{\"angularaxis\":{\"gridcolor\":\"white\",\"linecolor\":\"white\",\"ticks\":\"\"},\"bgcolor\":\"#E5ECF6\",\"radialaxis\":{\"gridcolor\":\"white\",\"linecolor\":\"white\",\"ticks\":\"\"}},\"scene\":{\"xaxis\":{\"backgroundcolor\":\"#E5ECF6\",\"gridcolor\":\"white\",\"gridwidth\":2,\"linecolor\":\"white\",\"showbackground\":true,\"ticks\":\"\",\"zerolinecolor\":\"white\"},\"yaxis\":{\"backgroundcolor\":\"#E5ECF6\",\"gridcolor\":\"white\",\"gridwidth\":2,\"linecolor\":\"white\",\"showbackground\":true,\"ticks\":\"\",\"zerolinecolor\":\"white\"},\"zaxis\":{\"backgroundcolor\":\"#E5ECF6\",\"gridcolor\":\"white\",\"gridwidth\":2,\"linecolor\":\"white\",\"showbackground\":true,\"ticks\":\"\",\"zerolinecolor\":\"white\"}},\"shapedefaults\":{\"line\":{\"color\":\"#2a3f5f\"}},\"ternary\":{\"aaxis\":{\"gridcolor\":\"white\",\"linecolor\":\"white\",\"ticks\":\"\"},\"baxis\":{\"gridcolor\":\"white\",\"linecolor\":\"white\",\"ticks\":\"\"},\"bgcolor\":\"#E5ECF6\",\"caxis\":{\"gridcolor\":\"white\",\"linecolor\":\"white\",\"ticks\":\"\"}},\"title\":{\"x\":0.05},\"xaxis\":{\"automargin\":true,\"gridcolor\":\"white\",\"linecolor\":\"white\",\"ticks\":\"\",\"title\":{\"standoff\":15},\"zerolinecolor\":\"white\",\"zerolinewidth\":2},\"yaxis\":{\"automargin\":true,\"gridcolor\":\"white\",\"linecolor\":\"white\",\"ticks\":\"\",\"title\":{\"standoff\":15},\"zerolinecolor\":\"white\",\"zerolinewidth\":2}}},\"scene\":{\"domain\":{\"x\":[0.0,1.0],\"y\":[0.0,1.0]},\"xaxis\":{\"title\":{\"text\":\"machine_size\"}},\"yaxis\":{\"title\":{\"text\":\"model_size\"}},\"zaxis\":{\"title\":{\"text\":\"miss_rate\"}}},\"legend\":{\"tracegroupgap\":0},\"margin\":{\"t\":60}},                        {\"responsive\": true}                    ).then(function(){\n",
       "                            \n",
       "var gd = document.getElementById('6c785fa7-b807-4421-b779-833376ad7962');\n",
       "var x = new MutationObserver(function (mutations, observer) {{\n",
       "        var display = window.getComputedStyle(gd).display;\n",
       "        if (!display || display === 'none') {{\n",
       "            console.log([gd, 'removed!']);\n",
       "            Plotly.purge(gd);\n",
       "            observer.disconnect();\n",
       "        }}\n",
       "}});\n",
       "\n",
       "// Listen for the removal of the full notebook cells\n",
       "var notebookContainer = gd.closest('#notebook-container');\n",
       "if (notebookContainer) {{\n",
       "    x.observe(notebookContainer, {childList: true});\n",
       "}}\n",
       "\n",
       "// Listen for the clearing of the current output cell\n",
       "var outputEl = gd.closest('.output');\n",
       "if (outputEl) {{\n",
       "    x.observe(outputEl, {childList: true});\n",
       "}}\n",
       "\n",
       "                        })                };                });            </script>        </div>"
      ]
     },
     "metadata": {},
     "output_type": "display_data"
    }
   ],
   "source": [
    "\n",
    "mesh_size = 0.1\n",
    "margin = 0\n",
    "\n",
    "X = df[['machine_size', 'model_size']]\n",
    "y = df[zname]\n",
    "\n",
    "# Condition the model on sepal width and length, predict the petal width\n",
    "model = MLPRegressor(hidden_layer_sizes=[30,30,10],)\n",
    "model.fit(X, y)\n",
    "\n",
    "# Create a mesh grid on which we will run our model\n",
    "x_min, x_max = X[\"machine_size\"].min() - margin, X[\"machine_size\"].max() + margin\n",
    "y_min, y_max = X[\"model_size\"].min() - margin, X[\"model_size\"].max() + margin\n",
    "xrange = np.arange(x_min, x_max, mesh_size)\n",
    "yrange = np.arange(y_min, y_max, mesh_size)\n",
    "xx, yy = np.meshgrid(xrange, yrange)\n",
    "\n",
    "# Run model\n",
    "pred = model.predict(np.c_[xx.ravel(), yy.ravel()])\n",
    "pred = pred.reshape(xx.shape)\n",
    "\n",
    "# Generate the plot\n",
    "fig = px.scatter_3d(df, x='machine_size', y='model_size', z=zname)\n",
    "fig.update_traces(marker=dict(size=5))\n",
    "# fig.add_traces(go.Surface(x=xrange, y=yrange, z=pred, name='pred_surface'))\n",
    "fig.show()\n"
   ]
  },
  {
   "cell_type": "code",
   "execution_count": 57,
   "id": "0569246f-2acb-4b23-8188-cd9cca83539e",
   "metadata": {},
   "outputs": [
    {
     "data": {
      "text/plain": [
       "'https://plotly.com/~cedar_ren/35/'"
      ]
     },
     "execution_count": 57,
     "metadata": {},
     "output_type": "execute_result"
    }
   ],
   "source": [
    "import chart_studio.plotly as py\n",
    "py.plot(fig, filename = 'swe_map_test', auto_open=True)"
   ]
  },
  {
   "cell_type": "code",
   "execution_count": null,
   "id": "4d09e1ad-4018-4f99-a44c-95457b9cf085",
   "metadata": {},
   "outputs": [],
   "source": []
  },
  {
   "cell_type": "code",
   "execution_count": null,
   "id": "8c255fb7-1360-48d7-9f39-50bc7fa4d19b",
   "metadata": {},
   "outputs": [],
   "source": []
  },
  {
   "cell_type": "code",
   "execution_count": null,
   "id": "4a3a3ec6-7000-4bb9-acbc-3d46bdc54f59",
   "metadata": {},
   "outputs": [],
   "source": []
  }
 ],
 "metadata": {
  "kernelspec": {
   "display_name": "Python 3 (ipykernel)",
   "language": "python",
   "name": "python3"
  },
  "language_info": {
   "codemirror_mode": {
    "name": "ipython",
    "version": 3
   },
   "file_extension": ".py",
   "mimetype": "text/x-python",
   "name": "python",
   "nbconvert_exporter": "python",
   "pygments_lexer": "ipython3",
   "version": "3.9.7"
  }
 },
 "nbformat": 4,
 "nbformat_minor": 5
}
