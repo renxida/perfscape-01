{
 "cells": [
  {
   "cell_type": "code",
   "execution_count": 1,
   "id": "d40151c3-0e84-455f-911d-d23b7fdf7277",
   "metadata": {},
   "outputs": [],
   "source": [
    "import glob"
   ]
  },
  {
   "cell_type": "code",
   "execution_count": 2,
   "id": "86edfd82-21ad-4d29-9ad8-5b62fcf61135",
   "metadata": {},
   "outputs": [
    {
     "name": "stdout",
     "output_type": "stream",
     "text": [
      "Start computing 1 iterations\n",
      "Finish computing 1 iterations\n",
      "\n",
      " Performance counter stats for './bvlcalexnet-7.onnx.bin':\n",
      "\n",
      "            524.67 msec task-clock                #    1.000 CPUs utilized          \n",
      "        2572120980      cycles                    #    4.902 GHz                    \n",
      "        5380881682      instructions              #    2.09  insn per cycle         \n",
      "          79796834      cache-references          #  152.089 M/sec                  \n",
      "           5647912      cache-misses              #    7.078 % of all cache refs    \n",
      "         709814933      branches                  # 1352.875 M/sec                  \n",
      "           1039967      branch-misses             #    0.15% of all branches        \n",
      "\n",
      "       0.524810221 seconds time elapsed\n",
      "\n",
      "       0.512840000 seconds user\n",
      "       0.012019000 seconds sys\n",
      "\n",
      "\n"
     ]
    }
   ],
   "source": [
    "cat data/bvlcalexnet-7.onnx/145.40.69.165/perf_output.txt\n"
   ]
  },
  {
   "cell_type": "code",
   "execution_count": 3,
   "id": "4ff56e77-22c5-4bb1-9d4b-cbd57502e905",
   "metadata": {},
   "outputs": [],
   "source": [
    "success_phrase = \"\"\"Start computing 1 iterations\n",
    "Finish computing 1 iterations\"\"\""
   ]
  },
  {
   "cell_type": "code",
   "execution_count": 4,
   "id": "708d961f-de97-4fda-9dae-8c4dc6ba3992",
   "metadata": {},
   "outputs": [],
   "source": [
    "failures = []\n",
    "successes = []\n",
    "models = []\n",
    "hosts = []"
   ]
  },
  {
   "cell_type": "code",
   "execution_count": 5,
   "id": "aa8a6ee0-3f42-4db2-8006-169517221e11",
   "metadata": {},
   "outputs": [],
   "source": [
    "from pathlib import Path"
   ]
  },
  {
   "cell_type": "code",
   "execution_count": 6,
   "id": "8ea276ed-8068-458e-9a46-31cd59239134",
   "metadata": {},
   "outputs": [],
   "source": [
    "p = Path(\"data/bvlcalexnet-7.onnx/145.40.69.165/perf_output.txt\")\n"
   ]
  },
  {
   "cell_type": "code",
   "execution_count": 7,
   "id": "ccd1d4c2-46eb-4656-8cb0-5abe3491f8fd",
   "metadata": {},
   "outputs": [
    {
     "data": {
      "text/plain": [
       "'bvlcalexnet-7.onnx'"
      ]
     },
     "execution_count": 7,
     "metadata": {},
     "output_type": "execute_result"
    }
   ],
   "source": [
    "p.parts[-3]"
   ]
  },
  {
   "cell_type": "code",
   "execution_count": null,
   "id": "35199f06-d834-4c9f-a983-3865ea7175e9",
   "metadata": {},
   "outputs": [],
   "source": [
    "\n"
   ]
  },
  {
   "cell_type": "code",
   "execution_count": null,
   "id": "be67a8f0-0609-45b4-a148-d15882fab8a0",
   "metadata": {},
   "outputs": [],
   "source": []
  },
  {
   "cell_type": "code",
   "execution_count": 8,
   "id": "e89412eb-300f-4fd9-a99b-8c78e3e688c0",
   "metadata": {},
   "outputs": [],
   "source": [
    "for fn in glob.iglob(\"data/*/*/perf_output.txt\"):\n",
    "    fn = Path(fn)\n",
    "    \n",
    "    with open(fn, mode=\"r\") as f:\n",
    "        contents=f.read()\n",
    "        if success_phrase not in contents:\n",
    "            failures.append(contents)\n",
    "        else:\n",
    "            successes.append(contents)\n",
    "            models.append(fn.parts[-3])\n",
    "            hosts.append(fn.parts[-2])"
   ]
  },
  {
   "cell_type": "code",
   "execution_count": 9,
   "id": "4658da30-523a-42b8-ac97-bb071c9bfa5b",
   "metadata": {},
   "outputs": [],
   "source": [
    "def parse(contents):\n",
    "    d = {}\n",
    "    for line in contents.split(\"\\n\")[5:]:\n",
    "        parts = line.split(\"#\")\n",
    "        for part in parts:\n",
    "            words = part.split()\n",
    "            if len(words)>0:\n",
    "                k = \" \".join(words[1:])\n",
    "\n",
    "                number_string = words[0]\n",
    "                if number_string[-1] == \"%\":\n",
    "                    v = float(number_string[:-1])/100\n",
    "                else:\n",
    "                    v = float(number_string)\n",
    "                \n",
    "                d[k]=v\n",
    "    return d"
   ]
  },
  {
   "cell_type": "code",
   "execution_count": 10,
   "id": "2af3e70e-1d18-4fc7-9423-b7788fb4f6e2",
   "metadata": {},
   "outputs": [],
   "source": [
    "records = []"
   ]
  },
  {
   "cell_type": "code",
   "execution_count": 11,
   "id": "6fb57c6b-6fab-4f45-be30-837737d7ef14",
   "metadata": {},
   "outputs": [],
   "source": [
    "for contents, host, model in zip(successes, hosts, models):\n",
    "    d = parse(contents)\n",
    "    d[\"host\"] = host\n",
    "    d[\"model\"]= model\n",
    "    records.append(d)"
   ]
  },
  {
   "cell_type": "code",
   "execution_count": 12,
   "id": "79016fae-3844-4598-8e83-93ff262bfb65",
   "metadata": {},
   "outputs": [],
   "source": [
    "import pandas as pd"
   ]
  },
  {
   "cell_type": "code",
   "execution_count": 13,
   "id": "18c08283-b29b-4f76-91cd-d825fd5efe22",
   "metadata": {},
   "outputs": [],
   "source": [
    "df_raw = pd.DataFrame.from_records(records)"
   ]
  },
  {
   "cell_type": "code",
   "execution_count": 14,
   "id": "f4ba5a46-0477-4b88-999d-5950f61c41b8",
   "metadata": {},
   "outputs": [
    {
     "data": {
      "text/html": [
       "<div>\n",
       "<style scoped>\n",
       "    .dataframe tbody tr th:only-of-type {\n",
       "        vertical-align: middle;\n",
       "    }\n",
       "\n",
       "    .dataframe tbody tr th {\n",
       "        vertical-align: top;\n",
       "    }\n",
       "\n",
       "    .dataframe thead th {\n",
       "        text-align: right;\n",
       "    }\n",
       "</style>\n",
       "<table border=\"1\" class=\"dataframe\">\n",
       "  <thead>\n",
       "    <tr style=\"text-align: right;\">\n",
       "      <th></th>\n",
       "      <th>msec task-clock</th>\n",
       "      <th>CPUs utilized</th>\n",
       "      <th>cycles</th>\n",
       "      <th>GHz</th>\n",
       "      <th>instructions</th>\n",
       "      <th>insn per cycle</th>\n",
       "      <th>cache-references</th>\n",
       "      <th>M/sec</th>\n",
       "      <th>cache-misses</th>\n",
       "      <th>% of all cache refs</th>\n",
       "      <th>branches</th>\n",
       "      <th>branch-misses</th>\n",
       "      <th>of all branches</th>\n",
       "      <th>seconds time elapsed</th>\n",
       "      <th>seconds user</th>\n",
       "      <th>seconds sys</th>\n",
       "      <th>host</th>\n",
       "      <th>model</th>\n",
       "    </tr>\n",
       "  </thead>\n",
       "  <tbody>\n",
       "    <tr>\n",
       "      <th>0</th>\n",
       "      <td>954.08</td>\n",
       "      <td>1.000</td>\n",
       "      <td>3.164130e+09</td>\n",
       "      <td>3.316</td>\n",
       "      <td>5.934072e+09</td>\n",
       "      <td>1.88</td>\n",
       "      <td>5.247691e+08</td>\n",
       "      <td>824.483</td>\n",
       "      <td>26231599.0</td>\n",
       "      <td>4.999</td>\n",
       "      <td>7.866217e+08</td>\n",
       "      <td>7729330.0</td>\n",
       "      <td>0.0098</td>\n",
       "      <td>0.954343</td>\n",
       "      <td>0.946285</td>\n",
       "      <td>0.008019</td>\n",
       "      <td>93.187.218.93</td>\n",
       "      <td>rcnn-ilsvrc13-7.onnx</td>\n",
       "    </tr>\n",
       "    <tr>\n",
       "      <th>1</th>\n",
       "      <td>939.60</td>\n",
       "      <td>0.999</td>\n",
       "      <td>2.739255e+09</td>\n",
       "      <td>2.915</td>\n",
       "      <td>5.934294e+09</td>\n",
       "      <td>2.17</td>\n",
       "      <td>5.257923e+06</td>\n",
       "      <td>837.232</td>\n",
       "      <td>4143852.0</td>\n",
       "      <td>78.812</td>\n",
       "      <td>7.866668e+08</td>\n",
       "      <td>1127138.0</td>\n",
       "      <td>0.0014</td>\n",
       "      <td>0.940093</td>\n",
       "      <td>0.932194</td>\n",
       "      <td>0.008001</td>\n",
       "      <td>147.75.48.193</td>\n",
       "      <td>rcnn-ilsvrc13-7.onnx</td>\n",
       "    </tr>\n",
       "    <tr>\n",
       "      <th>2</th>\n",
       "      <td>946.99</td>\n",
       "      <td>0.999</td>\n",
       "      <td>3.133359e+09</td>\n",
       "      <td>3.309</td>\n",
       "      <td>5.934516e+09</td>\n",
       "      <td>1.89</td>\n",
       "      <td>5.235067e+08</td>\n",
       "      <td>830.757</td>\n",
       "      <td>23788451.0</td>\n",
       "      <td>4.544</td>\n",
       "      <td>7.867177e+08</td>\n",
       "      <td>7747491.0</td>\n",
       "      <td>0.0098</td>\n",
       "      <td>0.947744</td>\n",
       "      <td>0.943293</td>\n",
       "      <td>0.004014</td>\n",
       "      <td>147.28.128.247</td>\n",
       "      <td>rcnn-ilsvrc13-7.onnx</td>\n",
       "    </tr>\n",
       "    <tr>\n",
       "      <th>3</th>\n",
       "      <td>585.70</td>\n",
       "      <td>1.000</td>\n",
       "      <td>2.782024e+09</td>\n",
       "      <td>4.750</td>\n",
       "      <td>5.966425e+09</td>\n",
       "      <td>2.14</td>\n",
       "      <td>7.297117e+07</td>\n",
       "      <td>1349.913</td>\n",
       "      <td>5317091.0</td>\n",
       "      <td>7.287</td>\n",
       "      <td>7.906461e+08</td>\n",
       "      <td>1116730.0</td>\n",
       "      <td>0.0014</td>\n",
       "      <td>0.585905</td>\n",
       "      <td>0.581907</td>\n",
       "      <td>0.004013</td>\n",
       "      <td>145.40.69.165</td>\n",
       "      <td>rcnn-ilsvrc13-7.onnx</td>\n",
       "    </tr>\n",
       "    <tr>\n",
       "      <th>4</th>\n",
       "      <td>949.79</td>\n",
       "      <td>1.000</td>\n",
       "      <td>3.159559e+09</td>\n",
       "      <td>3.327</td>\n",
       "      <td>5.934091e+09</td>\n",
       "      <td>1.88</td>\n",
       "      <td>5.489181e+08</td>\n",
       "      <td>828.206</td>\n",
       "      <td>26327077.0</td>\n",
       "      <td>4.796</td>\n",
       "      <td>7.866257e+08</td>\n",
       "      <td>7686908.0</td>\n",
       "      <td>0.0098</td>\n",
       "      <td>0.950063</td>\n",
       "      <td>0.942000</td>\n",
       "      <td>0.008017</td>\n",
       "      <td>93.187.218.93</td>\n",
       "      <td>rcnn-ilsvrc13-6.onnx</td>\n",
       "    </tr>\n",
       "    <tr>\n",
       "      <th>...</th>\n",
       "      <td>...</td>\n",
       "      <td>...</td>\n",
       "      <td>...</td>\n",
       "      <td>...</td>\n",
       "      <td>...</td>\n",
       "      <td>...</td>\n",
       "      <td>...</td>\n",
       "      <td>...</td>\n",
       "      <td>...</td>\n",
       "      <td>...</td>\n",
       "      <td>...</td>\n",
       "      <td>...</td>\n",
       "      <td>...</td>\n",
       "      <td>...</td>\n",
       "      <td>...</td>\n",
       "      <td>...</td>\n",
       "      <td>...</td>\n",
       "      <td>...</td>\n",
       "    </tr>\n",
       "    <tr>\n",
       "      <th>355</th>\n",
       "      <td>15602.29</td>\n",
       "      <td>1.000</td>\n",
       "      <td>7.758953e+10</td>\n",
       "      <td>4.973</td>\n",
       "      <td>2.039151e+11</td>\n",
       "      <td>2.63</td>\n",
       "      <td>1.084045e+10</td>\n",
       "      <td>1768.891</td>\n",
       "      <td>17182511.0</td>\n",
       "      <td>0.159</td>\n",
       "      <td>2.759874e+10</td>\n",
       "      <td>12572911.0</td>\n",
       "      <td>0.0005</td>\n",
       "      <td>15.602797</td>\n",
       "      <td>15.574609</td>\n",
       "      <td>0.027997</td>\n",
       "      <td>145.40.69.165</td>\n",
       "      <td>vgg19-bn-7.onnx</td>\n",
       "    </tr>\n",
       "    <tr>\n",
       "      <th>356</th>\n",
       "      <td>6805.42</td>\n",
       "      <td>1.000</td>\n",
       "      <td>2.257900e+10</td>\n",
       "      <td>3.318</td>\n",
       "      <td>2.629949e+10</td>\n",
       "      <td>1.16</td>\n",
       "      <td>2.658240e+09</td>\n",
       "      <td>134.675</td>\n",
       "      <td>9278653.0</td>\n",
       "      <td>0.349</td>\n",
       "      <td>9.165208e+08</td>\n",
       "      <td>5318887.0</td>\n",
       "      <td>0.0058</td>\n",
       "      <td>6.806756</td>\n",
       "      <td>6.785638</td>\n",
       "      <td>0.020004</td>\n",
       "      <td>93.187.218.93</td>\n",
       "      <td>rain-princess-8.onnx</td>\n",
       "    </tr>\n",
       "    <tr>\n",
       "      <th>357</th>\n",
       "      <td>9851.65</td>\n",
       "      <td>1.000</td>\n",
       "      <td>3.029029e+10</td>\n",
       "      <td>3.075</td>\n",
       "      <td>2.630633e+10</td>\n",
       "      <td>0.87</td>\n",
       "      <td>6.783535e+07</td>\n",
       "      <td>93.156</td>\n",
       "      <td>3007188.0</td>\n",
       "      <td>4.433</td>\n",
       "      <td>9.177398e+08</td>\n",
       "      <td>8226932.0</td>\n",
       "      <td>0.0090</td>\n",
       "      <td>9.852266</td>\n",
       "      <td>9.836315</td>\n",
       "      <td>0.016000</td>\n",
       "      <td>147.75.48.193</td>\n",
       "      <td>rain-princess-8.onnx</td>\n",
       "    </tr>\n",
       "    <tr>\n",
       "      <th>358</th>\n",
       "      <td>6774.22</td>\n",
       "      <td>1.000</td>\n",
       "      <td>2.260324e+10</td>\n",
       "      <td>3.337</td>\n",
       "      <td>2.630216e+10</td>\n",
       "      <td>1.16</td>\n",
       "      <td>2.657416e+09</td>\n",
       "      <td>135.384</td>\n",
       "      <td>15106729.0</td>\n",
       "      <td>0.568</td>\n",
       "      <td>9.171201e+08</td>\n",
       "      <td>5330166.0</td>\n",
       "      <td>0.0058</td>\n",
       "      <td>6.776973</td>\n",
       "      <td>6.753681</td>\n",
       "      <td>0.019993</td>\n",
       "      <td>147.28.128.247</td>\n",
       "      <td>rain-princess-8.onnx</td>\n",
       "    </tr>\n",
       "    <tr>\n",
       "      <th>359</th>\n",
       "      <td>6078.39</td>\n",
       "      <td>1.000</td>\n",
       "      <td>3.017877e+10</td>\n",
       "      <td>4.965</td>\n",
       "      <td>2.630133e+10</td>\n",
       "      <td>0.87</td>\n",
       "      <td>1.084685e+09</td>\n",
       "      <td>150.826</td>\n",
       "      <td>3387114.0</td>\n",
       "      <td>0.312</td>\n",
       "      <td>9.167778e+08</td>\n",
       "      <td>5306512.0</td>\n",
       "      <td>0.0058</td>\n",
       "      <td>6.078658</td>\n",
       "      <td>6.066589</td>\n",
       "      <td>0.011997</td>\n",
       "      <td>145.40.69.165</td>\n",
       "      <td>rain-princess-8.onnx</td>\n",
       "    </tr>\n",
       "  </tbody>\n",
       "</table>\n",
       "<p>360 rows × 18 columns</p>\n",
       "</div>"
      ],
      "text/plain": [
       "     msec task-clock  CPUs utilized        cycles    GHz  instructions  \\\n",
       "0             954.08          1.000  3.164130e+09  3.316  5.934072e+09   \n",
       "1             939.60          0.999  2.739255e+09  2.915  5.934294e+09   \n",
       "2             946.99          0.999  3.133359e+09  3.309  5.934516e+09   \n",
       "3             585.70          1.000  2.782024e+09  4.750  5.966425e+09   \n",
       "4             949.79          1.000  3.159559e+09  3.327  5.934091e+09   \n",
       "..               ...            ...           ...    ...           ...   \n",
       "355         15602.29          1.000  7.758953e+10  4.973  2.039151e+11   \n",
       "356          6805.42          1.000  2.257900e+10  3.318  2.629949e+10   \n",
       "357          9851.65          1.000  3.029029e+10  3.075  2.630633e+10   \n",
       "358          6774.22          1.000  2.260324e+10  3.337  2.630216e+10   \n",
       "359          6078.39          1.000  3.017877e+10  4.965  2.630133e+10   \n",
       "\n",
       "     insn per cycle  cache-references     M/sec  cache-misses  \\\n",
       "0              1.88      5.247691e+08   824.483    26231599.0   \n",
       "1              2.17      5.257923e+06   837.232     4143852.0   \n",
       "2              1.89      5.235067e+08   830.757    23788451.0   \n",
       "3              2.14      7.297117e+07  1349.913     5317091.0   \n",
       "4              1.88      5.489181e+08   828.206    26327077.0   \n",
       "..              ...               ...       ...           ...   \n",
       "355            2.63      1.084045e+10  1768.891    17182511.0   \n",
       "356            1.16      2.658240e+09   134.675     9278653.0   \n",
       "357            0.87      6.783535e+07    93.156     3007188.0   \n",
       "358            1.16      2.657416e+09   135.384    15106729.0   \n",
       "359            0.87      1.084685e+09   150.826     3387114.0   \n",
       "\n",
       "     % of all cache refs      branches  branch-misses  of all branches  \\\n",
       "0                  4.999  7.866217e+08      7729330.0           0.0098   \n",
       "1                 78.812  7.866668e+08      1127138.0           0.0014   \n",
       "2                  4.544  7.867177e+08      7747491.0           0.0098   \n",
       "3                  7.287  7.906461e+08      1116730.0           0.0014   \n",
       "4                  4.796  7.866257e+08      7686908.0           0.0098   \n",
       "..                   ...           ...            ...              ...   \n",
       "355                0.159  2.759874e+10     12572911.0           0.0005   \n",
       "356                0.349  9.165208e+08      5318887.0           0.0058   \n",
       "357                4.433  9.177398e+08      8226932.0           0.0090   \n",
       "358                0.568  9.171201e+08      5330166.0           0.0058   \n",
       "359                0.312  9.167778e+08      5306512.0           0.0058   \n",
       "\n",
       "     seconds time elapsed  seconds user  seconds sys            host  \\\n",
       "0                0.954343      0.946285     0.008019   93.187.218.93   \n",
       "1                0.940093      0.932194     0.008001   147.75.48.193   \n",
       "2                0.947744      0.943293     0.004014  147.28.128.247   \n",
       "3                0.585905      0.581907     0.004013   145.40.69.165   \n",
       "4                0.950063      0.942000     0.008017   93.187.218.93   \n",
       "..                    ...           ...          ...             ...   \n",
       "355             15.602797     15.574609     0.027997   145.40.69.165   \n",
       "356              6.806756      6.785638     0.020004   93.187.218.93   \n",
       "357              9.852266      9.836315     0.016000   147.75.48.193   \n",
       "358              6.776973      6.753681     0.019993  147.28.128.247   \n",
       "359              6.078658      6.066589     0.011997   145.40.69.165   \n",
       "\n",
       "                    model  \n",
       "0    rcnn-ilsvrc13-7.onnx  \n",
       "1    rcnn-ilsvrc13-7.onnx  \n",
       "2    rcnn-ilsvrc13-7.onnx  \n",
       "3    rcnn-ilsvrc13-7.onnx  \n",
       "4    rcnn-ilsvrc13-6.onnx  \n",
       "..                    ...  \n",
       "355       vgg19-bn-7.onnx  \n",
       "356  rain-princess-8.onnx  \n",
       "357  rain-princess-8.onnx  \n",
       "358  rain-princess-8.onnx  \n",
       "359  rain-princess-8.onnx  \n",
       "\n",
       "[360 rows x 18 columns]"
      ]
     },
     "execution_count": 14,
     "metadata": {},
     "output_type": "execute_result"
    }
   ],
   "source": [
    "df_raw"
   ]
  },
  {
   "cell_type": "code",
   "execution_count": 15,
   "id": "6817e661-f721-4271-b06a-66a186456f70",
   "metadata": {},
   "outputs": [
    {
     "data": {
      "text/plain": [
       "{'ResNet101-DUC-7.onnx',\n",
       " 'arcfaceresnet100-8.onnx',\n",
       " 'bvlcalexnet-6.onnx',\n",
       " 'bvlcalexnet-7.onnx',\n",
       " 'bvlcalexnet-8.onnx',\n",
       " 'bvlcalexnet-9.onnx',\n",
       " 'caffenet-6.onnx',\n",
       " 'caffenet-7.onnx',\n",
       " 'caffenet-8.onnx',\n",
       " 'caffenet-9.onnx',\n",
       " 'candy-8.onnx',\n",
       " 'candy-9.onnx',\n",
       " 'densenet-6.onnx',\n",
       " 'densenet-7.onnx',\n",
       " 'densenet-8.onnx',\n",
       " 'densenet-9.onnx',\n",
       " 'efficientnet-lite4-11.onnx',\n",
       " 'emotion-ferplus-7.onnx',\n",
       " 'emotion-ferplus-8.onnx',\n",
       " 'googlenet-3.onnx',\n",
       " 'googlenet-6.onnx',\n",
       " 'googlenet-7.onnx',\n",
       " 'googlenet-8.onnx',\n",
       " 'googlenet-9.onnx',\n",
       " 'inception-v1-6.onnx',\n",
       " 'inception-v1-7.onnx',\n",
       " 'inception-v1-8.onnx',\n",
       " 'inception-v1-9.onnx',\n",
       " 'inception-v2-7.onnx',\n",
       " 'inception-v2-8.onnx',\n",
       " 'inception-v2-9.onnx',\n",
       " 'mnist-7.onnx',\n",
       " 'mnist-8.onnx',\n",
       " 'mosaic-8.onnx',\n",
       " 'mosaic-9.onnx',\n",
       " 'pointilism-8.onnx',\n",
       " 'pointilism-9.onnx',\n",
       " 'rain-princess-8.onnx',\n",
       " 'rain-princess-9.onnx',\n",
       " 'rcnn-ilsvrc13-6.onnx',\n",
       " 'rcnn-ilsvrc13-7.onnx',\n",
       " 'rcnn-ilsvrc13-8.onnx',\n",
       " 'rcnn-ilsvrc13-9.onnx',\n",
       " 'resnet101-v1-7.onnx',\n",
       " 'resnet101-v2-7.onnx',\n",
       " 'resnet152-v1-7.onnx',\n",
       " 'resnet152-v2-7.onnx',\n",
       " 'resnet18-v1-7.onnx',\n",
       " 'resnet18-v2-7.onnx',\n",
       " 'resnet34-v1-7.onnx',\n",
       " 'resnet34-v2-7.onnx',\n",
       " 'resnet50-caffe2-v1-6.onnx',\n",
       " 'resnet50-caffe2-v1-7.onnx',\n",
       " 'resnet50-caffe2-v1-8.onnx',\n",
       " 'resnet50-caffe2-v1-9.onnx',\n",
       " 'resnet50-v1-12.onnx',\n",
       " 'resnet50-v1-7.onnx',\n",
       " 'resnet50-v2-7.onnx',\n",
       " 'retinanet-9.onnx',\n",
       " 'shufflenet-6.onnx',\n",
       " 'shufflenet-7.onnx',\n",
       " 'shufflenet-8.onnx',\n",
       " 'shufflenet-9.onnx',\n",
       " 'shufflenet-v2-10.onnx',\n",
       " 'shufflenet-v2-12.onnx',\n",
       " 'squeezenet1.0-3.onnx',\n",
       " 'squeezenet1.0-6.onnx',\n",
       " 'squeezenet1.0-7.onnx',\n",
       " 'squeezenet1.0-8.onnx',\n",
       " 'squeezenet1.0-9.onnx',\n",
       " 'squeezenet1.1-7.onnx',\n",
       " 'ssd-10.onnx',\n",
       " 'udnie-8.onnx',\n",
       " 'udnie-9.onnx',\n",
       " 'version-RFB-320.onnx',\n",
       " 'version-RFB-640.onnx',\n",
       " 'vgg16-12.onnx',\n",
       " 'vgg16-7.onnx',\n",
       " 'vgg16-bn-7.onnx',\n",
       " 'vgg19-7.onnx',\n",
       " 'vgg19-bn-7.onnx',\n",
       " 'vgg19-caffe2-6.onnx',\n",
       " 'vgg19-caffe2-7.onnx',\n",
       " 'vgg19-caffe2-8.onnx',\n",
       " 'vgg19-caffe2-9.onnx',\n",
       " 'yolov2-coco-9.onnx',\n",
       " 'zfnet512-6.onnx',\n",
       " 'zfnet512-7.onnx',\n",
       " 'zfnet512-8.onnx',\n",
       " 'zfnet512-9.onnx'}"
      ]
     },
     "execution_count": 15,
     "metadata": {},
     "output_type": "execute_result"
    }
   ],
   "source": [
    "set(df_raw.model)"
   ]
  },
  {
   "cell_type": "code",
   "execution_count": 16,
   "id": "5f119fec-4e6e-46da-bab3-f7b9ff20a692",
   "metadata": {},
   "outputs": [],
   "source": [
    "accepted_models=[ \n",
    " 'resnet101-v2-7.onnx',\n",
    " 'resnet152-v2-7.onnx',\n",
    " 'resnet18-v2-7.onnx',\n",
    " 'resnet34-v2-7.onnx',\n",
    " 'resnet50-v2-7.onnx',\n",
    "]"
   ]
  },
  {
   "cell_type": "code",
   "execution_count": 17,
   "id": "1d5a2e44-65da-452d-94b4-9a1e5b53cf00",
   "metadata": {},
   "outputs": [
    {
     "data": {
      "text/plain": [
       "{'145.40.69.165', '147.28.128.247', '147.75.48.193', '93.187.218.93'}"
      ]
     },
     "execution_count": 17,
     "metadata": {},
     "output_type": "execute_result"
    }
   ],
   "source": [
    "set(df_raw.host)"
   ]
  },
  {
   "cell_type": "code",
   "execution_count": 41,
   "id": "f56f0d77-3278-4e30-9567-3b021d7b5f94",
   "metadata": {},
   "outputs": [],
   "source": [
    "def host_map(host):\n",
    "    m = {'145.40.69.165':0 , '147.28.128.247': 2, '147.75.48.193':3 , '93.187.218.93':1}\n",
    "    return m[host]\n"
   ]
  },
  {
   "cell_type": "code",
   "execution_count": 42,
   "id": "6a7950db-118f-457a-a6bf-ea06fbdad88f",
   "metadata": {},
   "outputs": [],
   "source": [
    "def model_map(model):\n",
    "    if \"resnet\" in model:\n",
    "        return int(model.split(\"-\")[0][6:])"
   ]
  },
  {
   "cell_type": "code",
   "execution_count": 43,
   "id": "f40cbb81-055a-4aa5-8733-0bef2c3de946",
   "metadata": {},
   "outputs": [],
   "source": []
  },
  {
   "cell_type": "code",
   "execution_count": 44,
   "id": "f7a2c814-18bd-41e2-96a0-0b157fac3ea5",
   "metadata": {},
   "outputs": [],
   "source": [
    "df = df_raw[df_raw.model.isin(accepted_models)].copy()"
   ]
  },
  {
   "cell_type": "code",
   "execution_count": 45,
   "id": "04ddfb9f-9d89-4f2f-95a6-e514aaa8dfd3",
   "metadata": {},
   "outputs": [],
   "source": [
    "df[\"x\"] = df.host.map(host_map)\n",
    "df[\"y\"] = df.model.map(model_map)"
   ]
  },
  {
   "cell_type": "code",
   "execution_count": 46,
   "id": "1a8a22e6-811f-4c1d-bab2-2c881a268d90",
   "metadata": {},
   "outputs": [],
   "source": [
    "df[\"z\"] = df[\"msec task-clock\"]"
   ]
  },
  {
   "cell_type": "code",
   "execution_count": 47,
   "id": "053400f3-53c7-4dc0-b350-ce00f663cb86",
   "metadata": {},
   "outputs": [],
   "source": [
    "import numpy as np"
   ]
  },
  {
   "cell_type": "code",
   "execution_count": 48,
   "id": "bab3dcdd-a49e-4a27-a50c-f52e39dafcbd",
   "metadata": {},
   "outputs": [
    {
     "name": "stderr",
     "output_type": "stream",
     "text": [
      "/tmp/ipykernel_3213087/2345797706.py:1: FutureWarning:\n",
      "\n",
      "Dropping of nuisance columns in DataFrame reductions (with 'numeric_only=None') is deprecated; in a future version this will raise TypeError.  Select only valid columns before calling the reduction.\n",
      "\n"
     ]
    }
   ],
   "source": [
    "df = (df-df.mean())/df.std()"
   ]
  },
  {
   "cell_type": "code",
   "execution_count": 49,
   "id": "c2f48779-d00e-4f21-ac73-db2da3fdeb27",
   "metadata": {},
   "outputs": [],
   "source": [
    "from sklearn.neural_network import MLPRegressor"
   ]
  },
  {
   "cell_type": "code",
   "execution_count": 50,
   "id": "6ef7660b-ba7b-49f6-86fc-ec5399e3ccb3",
   "metadata": {},
   "outputs": [],
   "source": [
    "import plotly.express as px"
   ]
  },
  {
   "cell_type": "code",
   "execution_count": null,
   "id": "51ec58cb-891c-4ac0-8442-0ab339c90684",
   "metadata": {},
   "outputs": [
    {
     "ename": "ModuleNotFoundError",
     "evalue": "No module named 'chart_studio.plotly.graph_objects'",
     "output_type": "error",
     "traceback": [
      "\u001b[0;31m---------------------------------------------------------------------------\u001b[0m",
      "\u001b[0;31mModuleNotFoundError\u001b[0m                       Traceback (most recent call last)",
      "\u001b[0;32m/tmp/ipykernel_3213087/1537848282.py\u001b[0m in \u001b[0;36m<module>\u001b[0;34m\u001b[0m\n\u001b[1;32m      1\u001b[0m \u001b[0;32mimport\u001b[0m \u001b[0mchart_studio\u001b[0m\u001b[0;34m.\u001b[0m\u001b[0mplotly\u001b[0m \u001b[0;32mas\u001b[0m \u001b[0mpy\u001b[0m\u001b[0;34m\u001b[0m\u001b[0;34m\u001b[0m\u001b[0m\n\u001b[0;32m----> 2\u001b[0;31m \u001b[0;32mimport\u001b[0m \u001b[0mchart_studio\u001b[0m\u001b[0;34m.\u001b[0m\u001b[0mplotly\u001b[0m\u001b[0;34m.\u001b[0m\u001b[0mgraph_objects\u001b[0m \u001b[0;32mas\u001b[0m \u001b[0mgo\u001b[0m\u001b[0;34m\u001b[0m\u001b[0;34m\u001b[0m\u001b[0m\n\u001b[0m",
      "\u001b[0;31mModuleNotFoundError\u001b[0m: No module named 'chart_studio.plotly.graph_objects'"
     ]
    }
   ],
   "source": [
    "import chart_studio.plotly as py\n",
    "import chart_studio.plotly.graph_objects as go\n"
   ]
  },
  {
   "cell_type": "code",
   "execution_count": null,
   "id": "7635c44c-d850-4e41-bbe0-507a2a0f73f7",
   "metadata": {},
   "outputs": [],
   "source": [
    "chart_studio.plotly."
   ]
  },
  {
   "cell_type": "code",
   "execution_count": 53,
   "id": "94433ac2-c164-4e69-af7e-0a14cea7f565",
   "metadata": {},
   "outputs": [],
   "source": [
    "import chart_studio\n",
    "\n",
    "chart_studio.tools.set_credentials_file(username='cedar_ren', api_key='X8tRodKST4CoNSnsi9mY')"
   ]
  },
  {
   "cell_type": "code",
   "execution_count": 56,
   "id": "076fc8b9-dd8a-4128-9500-ef2dec675ba0",
   "metadata": {},
   "outputs": [
    {
     "data": {
      "application/vnd.plotly.v1+json": {
       "config": {
        "plotlyServerURL": "https://plotly.com"
       },
       "data": [
        {
         "hovertemplate": "x=%{x}<br>y=%{y}<br>z=%{z}<extra></extra>",
         "legendgroup": "",
         "marker": {
          "color": "#636efa",
          "size": 5,
          "symbol": "circle"
         },
         "mode": "markers",
         "name": "",
         "scene": "scene",
         "showlegend": false,
         "type": "scatter3d",
         "x": [
          -0.4358898943540674,
          1.307669683062202,
          0.4358898943540674,
          -1.307669683062202,
          -0.4358898943540674,
          1.307669683062202,
          0.4358898943540674,
          -1.307669683062202,
          -0.4358898943540674,
          1.307669683062202,
          0.4358898943540674,
          -1.307669683062202,
          -0.4358898943540674,
          1.307669683062202,
          0.4358898943540674,
          -1.307669683062202,
          -0.4358898943540674,
          1.307669683062202,
          0.4358898943540674,
          -1.307669683062202
         ],
         "y": [
          -0.7336941591734925,
          -0.7336941591734925,
          -0.7336941591734925,
          -0.7336941591734925,
          1.6061953214338618,
          1.6061953214338618,
          1.6061953214338618,
          1.6061953214338618,
          -0.41642100926063086,
          -0.41642100926063086,
          -0.41642100926063086,
          -0.41642100926063086,
          0.5948871560866155,
          0.5948871560866155,
          0.5948871560866155,
          0.5948871560866155,
          -1.050967309086354,
          -1.050967309086354,
          -1.050967309086354,
          -1.050967309086354
         ],
         "z": [
          -0.6386208061895251,
          -0.28669618932783303,
          -0.6346900947920586,
          -0.7375739759749254,
          1.3378094229414876,
          2.4231719818255253,
          1.336344925401448,
          1.0099406426724873,
          -0.5069859093005997,
          -0.10412899699140798,
          -0.5120618577743772,
          -0.6353901246161976,
          0.4234181648718409,
          1.1463498015419418,
          0.41291771750975637,
          0.1784721643149662,
          -1.087890574537654,
          -0.9070368443230753,
          -1.0792910449825408,
          -1.1380584022692526
         ]
        },
        {
         "name": "pred_surface",
         "type": "surface",
         "x": [
          -1.307669683062202,
          -1.207669683062202,
          -1.107669683062202,
          -1.0076696830622018,
          -0.9076696830622017,
          -0.8076696830622017,
          -0.7076696830622016,
          -0.6076696830622015,
          -0.5076696830622014,
          -0.4076696830622013,
          -0.3076696830622012,
          -0.20766968306220113,
          -0.10766968306220104,
          -0.007669683062200949,
          0.09233031693779914,
          0.19233031693779923,
          0.2923303169377993,
          0.3923303169377994,
          0.4923303169377995,
          0.5923303169377996,
          0.6923303169377997,
          0.7923303169377998,
          0.8923303169377999,
          0.9923303169377999,
          1.0923303169378,
          1.1923303169378001,
          1.2923303169378002
         ],
         "y": [
          -1.050967309086354,
          -0.9509673090863541,
          -0.8509673090863541,
          -0.7509673090863541,
          -0.6509673090863541,
          -0.5509673090863542,
          -0.4509673090863542,
          -0.3509673090863542,
          -0.25096730908635423,
          -0.15096730908635425,
          -0.05096730908635427,
          0.049032690913645594,
          0.14903269091364568,
          0.24903269091364577,
          0.34903269091364564,
          0.4490326909136455,
          0.5490326909136456,
          0.6490326909136457,
          0.7490326909136455,
          0.8490326909136454,
          0.9490326909136455,
          1.0490326909136456,
          1.1490326909136452,
          1.2490326909136453,
          1.3490326909136454,
          1.4490326909136455,
          1.5490326909136456
         ],
         "z": [
          [
           -1.049655005454568,
           -1.0340981389025026,
           -1.014379598056564,
           -0.9946610572106257,
           -0.9781708197760887,
           -0.969400802833427,
           -0.9615270844830305,
           -0.9536533661326342,
           -0.9480410640703193,
           -0.939207325402777,
           -0.9294689590423898,
           -0.9278657640877838,
           -0.9234248882367749,
           -0.9205620722408562,
           -0.9212190051326054,
           -0.9230029483402099,
           -0.9268007068839105,
           -0.928877907449979,
           -0.9203457871676909,
           -0.9101577803485327,
           -0.8985392168174068,
           -0.8868510327026649,
           -0.8748406965359915,
           -0.8595268256301806,
           -0.8424200640546193,
           -0.8116458043302671,
           -0.7633029490870625
          ],
          [
           -0.9799505186675544,
           -0.9787162882283188,
           -0.9713237877079369,
           -0.9521543653821233,
           -0.9334856786136546,
           -0.9156987432470379,
           -0.9074632820624328,
           -0.9002397339122953,
           -0.8949821246251571,
           -0.8884569541420898,
           -0.8823568432172866,
           -0.8812675979941301,
           -0.8788586599120846,
           -0.880176679795634,
           -0.8775812368748255,
           -0.881668346646903,
           -0.8846424820409876,
           -0.8793979545152903,
           -0.8704981930993736,
           -0.8589208654636008,
           -0.8471702147407488,
           -0.8326339812818498,
           -0.8180977478229511,
           -0.8022981968046118,
           -0.7763908772284486,
           -0.7247191172563512,
           -0.668339516381642
          ],
          [
           -0.9102909029180214,
           -0.9100458383154989,
           -0.9096669689236182,
           -0.9075892421394559,
           -0.8920172444462854,
           -0.8738828335797547,
           -0.8559212356370716,
           -0.8497586520895731,
           -0.8450353187043734,
           -0.8413062774713468,
           -0.8386117065784731,
           -0.8366350477149199,
           -0.8398822082032569,
           -0.8369399157392395,
           -0.8367452818354949,
           -0.8389942745911306,
           -0.8353947998512293,
           -0.8298822431981713,
           -0.8193025141097955,
           -0.8049634994866071,
           -0.7903805184352742,
           -0.7753064005793496,
           -0.7602322827234254,
           -0.7383082649074154,
           -0.6853390074336043,
           -0.6281566619543759,
           -0.57095814315668
          ],
          [
           -0.8430822241915977,
           -0.8410602048655751,
           -0.8399009619504542,
           -0.8383510164350131,
           -0.8368010709195725,
           -0.8342113710330497,
           -0.8172470652936448,
           -0.8024361321722768,
           -0.7958746988357557,
           -0.7954838133866081,
           -0.795477378703863,
           -0.7945789737985739,
           -0.793835952658069,
           -0.7923333097353018,
           -0.7928922819545846,
           -0.7897465924013723,
           -0.7848622632189339,
           -0.7765381824866727,
           -0.7624255066246707,
           -0.7473513887687462,
           -0.7322772709128217,
           -0.7172031530568972,
           -0.6914440877635625,
           -0.6446017840156194,
           -0.5879738075271098,
           -0.530775288729414,
           -0.47357676993171827
          ],
          [
           -0.7854629483217987,
           -0.7786597620224927,
           -0.7717943484510771,
           -0.7685769118136144,
           -0.7670269662981737,
           -0.7654770207827326,
           -0.766274349055263,
           -0.7636360274920833,
           -0.7514655244826766,
           -0.7518109936715996,
           -0.7490204134604127,
           -0.7471393184220687,
           -0.7461921124107327,
           -0.7433363849909839,
           -0.7397195635930535,
           -0.7355077362638257,
           -0.7280179088768594,
           -0.7187905991536396,
           -0.704322259102218,
           -0.6892481412462939,
           -0.6741740233903691,
           -0.6410977771602796,
           -0.5964640872299897,
           -0.5476294839294007,
           -0.4905924343021483,
           -0.43339391550445217,
           -0.38282956598537343
          ],
          [
           -0.7116546898966287,
           -0.7144824671221869,
           -0.7121292043307829,
           -0.7038334716551479,
           -0.6972528616767749,
           -0.6950603247618125,
           -0.6987452570989244,
           -0.7119523675331576,
           -0.7183010603135827,
           -0.706978657141132,
           -0.7016954708187718,
           -0.6997796681411931,
           -0.6935040729631334,
           -0.6870461556306086,
           -0.6824282067950248,
           -0.6771836059127706,
           -0.6702115635919895,
           -0.6603910076834333,
           -0.6462190115797657,
           -0.6297794660524672,
           -0.5900927552761795,
           -0.5457643138062113,
           -0.4982255776395669,
           -0.45015189614417606,
           -0.39321106107718606,
           -0.34108566315805583,
           -0.2937371956596887
          ],
          [
           -0.6201654829003838,
           -0.6272592061208278,
           -0.6261192184036213,
           -0.6237250915126619,
           -0.6214442147564129,
           -0.6258172313177066,
           -0.6387148651652581,
           -0.6486844109649152,
           -0.6512189287651929,
           -0.6440219699922317,
           -0.6341613554473718,
           -0.6220088482346583,
           -0.6133427820439915,
           -0.612473785636996,
           -0.61160478923,
           -0.6092471817081228,
           -0.6056561026207969,
           -0.5975685068623763,
           -0.5807433422636696,
           -0.5387432409165989,
           -0.49441479944663125,
           -0.4478131455762355,
           -0.3999870680491443,
           -0.35150431341501004,
           -0.29934176033073784,
           -0.2519820499710623,
           -0.20406093972216477
          ],
          [
           -0.5215154300346245,
           -0.5201066268331457,
           -0.5231269799633295,
           -0.5235532665037875,
           -0.5320818749214339,
           -0.5507277060774368,
           -0.568704489056319,
           -0.5812079923178077,
           -0.5800661806843407,
           -0.5730639578149243,
           -0.5578670351705929,
           -0.5406754918305008,
           -0.5315749877371273,
           -0.5307059913301314,
           -0.5296031477802833,
           -0.5265421412959138,
           -0.5231043721444658,
           -0.5121592541451799,
           -0.482188197258243,
           -0.4430652850870511,
           -0.39740071351290374,
           -0.34957463598581257,
           -0.30174855845872184,
           -0.2434413806047916,
           -0.19072020654532718,
           -0.13522319495936153,
           -0.07972618337339572
          ],
          [
           -0.43364581772417665,
           -0.4191127412410893,
           -0.4240796353267027,
           -0.43405904654744354,
           -0.4419689385563189,
           -0.4595832562373443,
           -0.47837781539948454,
           -0.4985855110427361,
           -0.5066721642585048,
           -0.5015160492351225,
           -0.4883314374805765,
           -0.4721953576318325,
           -0.4598431897094001,
           -0.44277121031757516,
           -0.4382476708461366,
           -0.4351866643617669,
           -0.43133133937731605,
           -0.4071911679608944,
           -0.37466603750362565,
           -0.33853622297256064,
           -0.29390416001191993,
           -0.2280788084348203,
           -0.16230999853653777,
           -0.1149562985356581,
           -0.06384268602716138,
           -0.008345674441196022,
           0.04715133714476956
          ],
          [
           -0.34816130065872186,
           -0.34112504505123287,
           -0.3340887894437434,
           -0.3367169435852717,
           -0.34534817006938634,
           -0.36254325196107695,
           -0.38317419121168317,
           -0.4059966899258657,
           -0.41071282677449383,
           -0.40357219881108897,
           -0.39640281946552636,
           -0.3901865440012158,
           -0.38242390631300777,
           -0.3722562724308744,
           -0.35459985975476876,
           -0.3481622540089338,
           -0.3309806348906345,
           -0.2945722612102615,
           -0.24402526052038676,
           -0.18915348926720882,
           -0.13428171801403105,
           -0.0786919797603844,
           -0.033970573579920574,
           0.013289534193125216,
           0.06303483449100383,
           0.11853184607696991,
           0.17402885766293513
          ],
          [
           -0.2711640764931256,
           -0.26028653085605175,
           -0.24892682832814184,
           -0.23123735390832395,
           -0.24232444503271272,
           -0.2645147120375074,
           -0.28641453862177735,
           -0.29507440470672475,
           -0.3019367278781374,
           -0.3045875085426118,
           -0.29840876198423333,
           -0.29510970223972777,
           -0.2873470645515198,
           -0.27915105933937256,
           -0.2571407877031948,
           -0.22115919080320268,
           -0.20032916455346622,
           -0.15268488559727622,
           -0.09088589636394127,
           -0.029086907130606562,
           0.026564297122227618,
           0.06601869462726193,
           0.10160889296330942,
           0.14153536692190877,
           0.1899123550091697,
           0.24540936659513546,
           0.3007670599396079
          ],
          [
           -0.1967467507510754,
           -0.18389809555313424,
           -0.1687830714329604,
           -0.15020990611750085,
           -0.14548280742641784,
           -0.16108690234023437,
           -0.1683358655328856,
           -0.17691115616712183,
           -0.18548644680135784,
           -0.19406173743559413,
           -0.1975580411362134,
           -0.198112699153708,
           -0.19206067128168036,
           -0.17465253000981873,
           -0.14311025963854962,
           -0.10712866273855738,
           -0.07093554286706662,
           -0.007269642256046316,
           0.05452934697728838,
           0.11632833621062331,
           0.1671503354179005,
           0.20698625124446154,
           0.23998509619449782,
           0.27549927756978043,
           0.31377682187156547,
           0.375215826042861,
           0.4380739051039162
          ],
          [
           -0.1232148531087623,
           -0.11036619791082088,
           -0.09391152750487554,
           -0.08390857688305382,
           -0.08010761246069052,
           -0.06279333125066568,
           -0.06370559023442919,
           -0.06882539950137863,
           -0.07524806611202144,
           -0.07906716308919877,
           -0.08875027981626184,
           -0.09719763869642718,
           -0.08253238362073285,
           -0.05812635471355794,
           -0.02905867688911938,
           0.007638514982315339,
           0.05409259542503708,
           0.1297699032852886,
           0.1990721398799017,
           0.24754531187363032,
           0.2866465389858757,
           0.3257477660981213,
           0.3726371969667408,
           0.42559641202853826,
           0.4751606588323734,
           0.5284434671285299,
           0.5871804123732135
          ],
          [
           -0.04989958192347167,
           -0.040522476406701105,
           -0.026199709396155527,
           -0.018920068661215414,
           -0.0016057874511905268,
           0.01570849375883411,
           0.03302277496885887,
           0.031038320582032805,
           0.031969122082540616,
           0.029616374685132826,
           0.014984291280522657,
           0.021922615919585123,
           0.03323853987126643,
           0.05453083707316442,
           0.08270829477071957,
           0.12834952295569807,
           0.17931413428004572,
           0.24460672317550292,
           0.3053516760721533,
           0.35605024925226153,
           0.40177586206566146,
           0.4612392917865128,
           0.5198283827943014,
           0.5784203499562091,
           0.6366371605824982,
           0.6892029618874018,
           0.7434263690569879
          ],
          [
           0.013082840126786024,
           0.0254822194482468,
           0.042937760760724905,
           0.05958175634828401,
           0.0768960375583088,
           0.0948716999130498,
           0.11411580496440989,
           0.1325846230739295,
           0.13200947525052859,
           0.13070685341578675,
           0.13776508356522355,
           0.144516720906057,
           0.15583264485773837,
           0.1695407342909417,
           0.19797392301370778,
           0.23050383139903055,
           0.26832148621547586,
           0.331003595062147,
           0.3844328803172905,
           0.43786216557243407,
           0.5126924806280859,
           0.5817751521621535,
           0.6505665225698977,
           0.7176453665520158,
           0.7845160142067639,
           0.8444290458372529,
           0.9042767420145329
          ],
          [
           0.07401938085678876,
           0.0970721518309562,
           0.12401218134034472,
           0.14355233516813662,
           0.16279644021949638,
           0.1811169388055192,
           0.1979394674022108,
           0.2137337139415711,
           0.23665200962825067,
           0.24699228018231728,
           0.25405051033175413,
           0.2613196723944731,
           0.27342698360880935,
           0.2763940548064969,
           0.2853257701709424,
           0.30888477302383044,
           0.35675084845142796,
           0.4101801337065715,
           0.46360941896171504,
           0.5290662319333539,
           0.6091943405976917,
           0.6904802039978597,
           0.7628752147220427,
           0.8346721582159619,
           0.9017510021980805,
           0.9686885180618908,
           1.0353039851534034
          ],
          [
           0.1467159573257698,
           0.1829715764452443,
           0.20611287157320662,
           0.22763333141841507,
           0.24687559641430024,
           0.2626698429536605,
           0.27846408949302087,
           0.30551918694817837,
           0.33544102555972755,
           0.35775294026573035,
           0.3623608157492872,
           0.35553767774657685,
           0.3584396860481966,
           0.3623260090020083,
           0.3685362683299705,
           0.39285687745589315,
           0.4359273870958526,
           0.48935667235099606,
           0.5427859576061396,
           0.6228800315183298,
           0.7030081401826677,
           0.7862626136990377,
           0.8707783549107632,
           0.9439752772819322,
           1.0163702880061154,
           1.0818547909253196,
           1.1420547667536258
          ],
          [
           0.23074364748442802,
           0.26507226667810624,
           0.2873129346146462,
           0.30714318272511093,
           0.3255987740707642,
           0.34319446504447054,
           0.37328189912142995,
           0.4044247240640351,
           0.42641423218049557,
           0.4367218308820003,
           0.44269414573522414,
           0.43907216471456734,
           0.44012205875374,
           0.4440083817075515,
           0.45512921510843063,
           0.47055121666622357,
           0.5151039257402774,
           0.568533210995421,
           0.6365657224389678,
           0.7166938311033059,
           0.7951582257035547,
           0.8834541027537091,
           0.9733704992896713,
           1.0600748241484466,
           1.129869088656324,
           1.1980586459717546,
           1.2633444385169668
          ],
          [
           0.32025191014728493,
           0.3469925378108772,
           0.3657512305430449,
           0.3842068218886984,
           0.408750409988911,
           0.4404755155586231,
           0.4714315029133709,
           0.4934591809192516,
           0.497920593795878,
           0.5052477804430306,
           0.5146495867787985,
           0.5219368866965702,
           0.521804431459283,
           0.5311044492490646,
           0.5351207287702536,
           0.5430544879262499,
           0.5875309066032812,
           0.6549510548277653,
           0.7404798188163402,
           0.8260085828049147,
           0.9123271505928944,
           1.0022435471288564,
           1.0890046125067718,
           1.1648309993953736,
           1.2406573862839756,
           1.3115511027451814,
           1.377332777420707
          ],
          [
           0.40526864174690597,
           0.42435927836097903,
           0.4434485010123592,
           0.4751736065820712,
           0.5068987121517831,
           0.5365085774540734,
           0.5507468365519672,
           0.5585195730785113,
           0.5661708633444915,
           0.574787754069258,
           0.5822953742722203,
           0.5898655460598585,
           0.610797636422647,
           0.6216759533938688,
           0.6265134939592489,
           0.6362142606192318,
           0.6773098544687334,
           0.7563682179055907,
           0.8551122749510881,
           0.943772491432682,
           1.0311165949680416,
           1.1179344008650967,
           1.1937607877536984,
           1.2695871746423006,
           1.3454135615309029,
           1.4212399484195044,
           1.4913211163244484
          ],
          [
           0.4816891350811018,
           0.5098716976055196,
           0.5415968031752313,
           0.5733219087449436,
           0.5924224316259074,
           0.6009621025002568,
           0.6094004897849242,
           0.6222463977831038,
           0.6380587021245556,
           0.6529315691850611,
           0.6668715877299587,
           0.6918719293913558,
           0.7147148256809734,
           0.7247273921941376,
           0.7295149496865551,
           0.7374623083680467,
           0.7750050436562936,
           0.8567929877943458,
           0.955537044839843,
           1.0542811018853395,
           1.146864189223422,
           1.2226905761120241,
           1.298516963000626,
           1.3743433498892281,
           1.45016973677783,
           1.5259961236664321,
           1.6004063921757574
          ],
          [
           0.5656895294106059,
           0.5984129538330065,
           0.6270242382111174,
           0.6457661613640076,
           0.6604188701757971,
           0.6781162550209151,
           0.6951194080350039,
           0.7106725578229217,
           0.7262257076108397,
           0.7417788573987576,
           0.7687443903706294,
           0.7961080474195524,
           0.8098854907522747,
           0.8226123334469689,
           0.8321987450776621,
           0.8412920363633916,
           0.8812934443612785,
           0.9621306769473783,
           1.0559618147285978,
           1.1494794567088777,
           1.2416363606683538,
           1.3274467513589512,
           1.4032731382475534,
           1.4790995251361552,
           1.5549259120247574,
           1.6307522989133592,
           1.7056584495529983
          ],
          [
           0.6577472080729607,
           0.6904186865906308,
           0.7110580080501038,
           0.7310666930674128,
           0.7492227657719174,
           0.7658822308402096,
           0.7831310167127116,
           0.798839563309205,
           0.814392713097123,
           0.8432629764129705,
           0.8736657302738288,
           0.8907088321743607,
           0.9050561558235758,
           0.91778299851827,
           0.9305098412129643,
           0.9465878887055301,
           0.9924868858834367,
           1.0716767473023863,
           1.1485907657719308,
           1.2350623907740879,
           1.3281006761557936,
           1.4211389615374992,
           1.5080293134944802,
           1.583855700383082,
           1.659682087271684,
           1.7355084741602862,
           1.8109105069302398
          ],
          [
           0.7506996359754948,
           0.773257802762435,
           0.7936198640847444,
           0.8138832227274592,
           0.8318237604624384,
           0.8485966173740199,
           0.8661569888427205,
           0.885045021961115,
           0.9143641747865694,
           0.9450579174772588,
           0.9652192282552591,
           0.9839000363532447,
           0.9991887400290996,
           1.0129536635895713,
           1.0256805062842655,
           1.0479371966743354,
           1.1067160719914158,
           1.1765214722230033,
           1.242752840294474,
           1.3215267062615283,
           1.4145649916432343,
           1.5076032770249401,
           1.6006415624066463,
           1.6886118756300097,
           1.7644382625186115,
           1.8397297654554385,
           1.9130046075241827
          ],
          [
           0.8317340619921694,
           0.851997420634884,
           0.8722607792775988,
           0.8925241379203136,
           0.9127874965630283,
           0.9308852451904971,
           0.9514561811909088,
           0.9808593615661348,
           1.011718863111811,
           1.033647658419524,
           1.053121100131873,
           1.0706984454369688,
           1.0876752443913158,
           1.104652043345663,
           1.120826310381241,
           1.1489351511718773,
           1.2199246339505856,
           1.2746172123730908,
           1.3380253680095417,
           1.4106227618291611,
           1.5010293071306748,
           1.594067592512381,
           1.6871058778940866,
           1.7801441632757926,
           1.8672994523297017,
           1.9405742943984452,
           2.013849136467189
          ],
          [
           0.9103749771850239,
           0.9306383358277389,
           0.9509016944704536,
           0.9711650531131685,
           0.9916254234849708,
           1.0178673404207026,
           1.047316125036692,
           1.0781756265823679,
           1.1017061475648076,
           1.121179589277156,
           1.139841484836883,
           1.1568182837912302,
           1.1737950827455774,
           1.1907718816999244,
           1.2077486806542719,
           1.2508868709103709,
           1.306734026145359,
           1.3607175591193588,
           1.427088714828885,
           1.5049837659279075,
           1.5874351864834464,
           1.6805319079998213,
           1.7728666512814861,
           1.8633533918433336,
           1.9538401324051806,
           2.041418823341452,
           2.1146936654101953
          ],
          [
           0.9890158923778787,
           1.0092792510205937,
           1.0302092381221608,
           1.0521727314824454,
           1.0772979945178391,
           1.1118086297312915,
           1.1446323900529254,
           1.169764636710091,
           1.1892380784224397,
           1.2087115201347884,
           1.2259613231911444,
           1.2429381221454918,
           1.2599149210998388,
           1.276891720054186,
           1.2938685190085333,
           1.350420338088864,
           1.395198007419859,
           1.444665867217589,
           1.5070550517815742,
           1.5889602887752345,
           1.6709680566028704,
           1.7596815812566953,
           1.8522766912694681,
           1.9448976576272163,
           2.035917772098933,
           2.126576906572765,
           2.215119863705461
          ]
         ]
        }
       ],
       "layout": {
        "autosize": true,
        "legend": {
         "tracegroupgap": 0
        },
        "margin": {
         "t": 60
        },
        "scene": {
         "aspectmode": "auto",
         "aspectratio": {
          "x": 0.8974548974505193,
          "y": 0.9118065697212621,
          "z": 1.2220378320889105
         },
         "domain": {
          "x": [
           0,
           1
          ],
          "y": [
           0,
           1
          ]
         },
         "xaxis": {
          "title": {
           "text": "x"
          },
          "type": "linear"
         },
         "yaxis": {
          "title": {
           "text": "y"
          },
          "type": "linear"
         },
         "zaxis": {
          "title": {
           "text": "z"
          },
          "type": "linear"
         }
        },
        "template": {
         "data": {
          "bar": [
           {
            "error_x": {
             "color": "#2a3f5f"
            },
            "error_y": {
             "color": "#2a3f5f"
            },
            "marker": {
             "line": {
              "color": "#E5ECF6",
              "width": 0.5
             },
             "pattern": {
              "fillmode": "overlay",
              "size": 10,
              "solidity": 0.2
             }
            },
            "type": "bar"
           }
          ],
          "barpolar": [
           {
            "marker": {
             "line": {
              "color": "#E5ECF6",
              "width": 0.5
             },
             "pattern": {
              "fillmode": "overlay",
              "size": 10,
              "solidity": 0.2
             }
            },
            "type": "barpolar"
           }
          ],
          "carpet": [
           {
            "aaxis": {
             "endlinecolor": "#2a3f5f",
             "gridcolor": "white",
             "linecolor": "white",
             "minorgridcolor": "white",
             "startlinecolor": "#2a3f5f"
            },
            "baxis": {
             "endlinecolor": "#2a3f5f",
             "gridcolor": "white",
             "linecolor": "white",
             "minorgridcolor": "white",
             "startlinecolor": "#2a3f5f"
            },
            "type": "carpet"
           }
          ],
          "choropleth": [
           {
            "colorbar": {
             "outlinewidth": 0,
             "ticks": ""
            },
            "type": "choropleth"
           }
          ],
          "contour": [
           {
            "colorbar": {
             "outlinewidth": 0,
             "ticks": ""
            },
            "colorscale": [
             [
              0,
              "#0d0887"
             ],
             [
              0.1111111111111111,
              "#46039f"
             ],
             [
              0.2222222222222222,
              "#7201a8"
             ],
             [
              0.3333333333333333,
              "#9c179e"
             ],
             [
              0.4444444444444444,
              "#bd3786"
             ],
             [
              0.5555555555555556,
              "#d8576b"
             ],
             [
              0.6666666666666666,
              "#ed7953"
             ],
             [
              0.7777777777777778,
              "#fb9f3a"
             ],
             [
              0.8888888888888888,
              "#fdca26"
             ],
             [
              1,
              "#f0f921"
             ]
            ],
            "type": "contour"
           }
          ],
          "contourcarpet": [
           {
            "colorbar": {
             "outlinewidth": 0,
             "ticks": ""
            },
            "type": "contourcarpet"
           }
          ],
          "heatmap": [
           {
            "colorbar": {
             "outlinewidth": 0,
             "ticks": ""
            },
            "colorscale": [
             [
              0,
              "#0d0887"
             ],
             [
              0.1111111111111111,
              "#46039f"
             ],
             [
              0.2222222222222222,
              "#7201a8"
             ],
             [
              0.3333333333333333,
              "#9c179e"
             ],
             [
              0.4444444444444444,
              "#bd3786"
             ],
             [
              0.5555555555555556,
              "#d8576b"
             ],
             [
              0.6666666666666666,
              "#ed7953"
             ],
             [
              0.7777777777777778,
              "#fb9f3a"
             ],
             [
              0.8888888888888888,
              "#fdca26"
             ],
             [
              1,
              "#f0f921"
             ]
            ],
            "type": "heatmap"
           }
          ],
          "heatmapgl": [
           {
            "colorbar": {
             "outlinewidth": 0,
             "ticks": ""
            },
            "colorscale": [
             [
              0,
              "#0d0887"
             ],
             [
              0.1111111111111111,
              "#46039f"
             ],
             [
              0.2222222222222222,
              "#7201a8"
             ],
             [
              0.3333333333333333,
              "#9c179e"
             ],
             [
              0.4444444444444444,
              "#bd3786"
             ],
             [
              0.5555555555555556,
              "#d8576b"
             ],
             [
              0.6666666666666666,
              "#ed7953"
             ],
             [
              0.7777777777777778,
              "#fb9f3a"
             ],
             [
              0.8888888888888888,
              "#fdca26"
             ],
             [
              1,
              "#f0f921"
             ]
            ],
            "type": "heatmapgl"
           }
          ],
          "histogram": [
           {
            "marker": {
             "pattern": {
              "fillmode": "overlay",
              "size": 10,
              "solidity": 0.2
             }
            },
            "type": "histogram"
           }
          ],
          "histogram2d": [
           {
            "colorbar": {
             "outlinewidth": 0,
             "ticks": ""
            },
            "colorscale": [
             [
              0,
              "#0d0887"
             ],
             [
              0.1111111111111111,
              "#46039f"
             ],
             [
              0.2222222222222222,
              "#7201a8"
             ],
             [
              0.3333333333333333,
              "#9c179e"
             ],
             [
              0.4444444444444444,
              "#bd3786"
             ],
             [
              0.5555555555555556,
              "#d8576b"
             ],
             [
              0.6666666666666666,
              "#ed7953"
             ],
             [
              0.7777777777777778,
              "#fb9f3a"
             ],
             [
              0.8888888888888888,
              "#fdca26"
             ],
             [
              1,
              "#f0f921"
             ]
            ],
            "type": "histogram2d"
           }
          ],
          "histogram2dcontour": [
           {
            "colorbar": {
             "outlinewidth": 0,
             "ticks": ""
            },
            "colorscale": [
             [
              0,
              "#0d0887"
             ],
             [
              0.1111111111111111,
              "#46039f"
             ],
             [
              0.2222222222222222,
              "#7201a8"
             ],
             [
              0.3333333333333333,
              "#9c179e"
             ],
             [
              0.4444444444444444,
              "#bd3786"
             ],
             [
              0.5555555555555556,
              "#d8576b"
             ],
             [
              0.6666666666666666,
              "#ed7953"
             ],
             [
              0.7777777777777778,
              "#fb9f3a"
             ],
             [
              0.8888888888888888,
              "#fdca26"
             ],
             [
              1,
              "#f0f921"
             ]
            ],
            "type": "histogram2dcontour"
           }
          ],
          "mesh3d": [
           {
            "colorbar": {
             "outlinewidth": 0,
             "ticks": ""
            },
            "type": "mesh3d"
           }
          ],
          "parcoords": [
           {
            "line": {
             "colorbar": {
              "outlinewidth": 0,
              "ticks": ""
             }
            },
            "type": "parcoords"
           }
          ],
          "pie": [
           {
            "automargin": true,
            "type": "pie"
           }
          ],
          "scatter": [
           {
            "marker": {
             "colorbar": {
              "outlinewidth": 0,
              "ticks": ""
             }
            },
            "type": "scatter"
           }
          ],
          "scatter3d": [
           {
            "line": {
             "colorbar": {
              "outlinewidth": 0,
              "ticks": ""
             }
            },
            "marker": {
             "colorbar": {
              "outlinewidth": 0,
              "ticks": ""
             }
            },
            "type": "scatter3d"
           }
          ],
          "scattercarpet": [
           {
            "marker": {
             "colorbar": {
              "outlinewidth": 0,
              "ticks": ""
             }
            },
            "type": "scattercarpet"
           }
          ],
          "scattergeo": [
           {
            "marker": {
             "colorbar": {
              "outlinewidth": 0,
              "ticks": ""
             }
            },
            "type": "scattergeo"
           }
          ],
          "scattergl": [
           {
            "marker": {
             "colorbar": {
              "outlinewidth": 0,
              "ticks": ""
             }
            },
            "type": "scattergl"
           }
          ],
          "scattermapbox": [
           {
            "marker": {
             "colorbar": {
              "outlinewidth": 0,
              "ticks": ""
             }
            },
            "type": "scattermapbox"
           }
          ],
          "scatterpolar": [
           {
            "marker": {
             "colorbar": {
              "outlinewidth": 0,
              "ticks": ""
             }
            },
            "type": "scatterpolar"
           }
          ],
          "scatterpolargl": [
           {
            "marker": {
             "colorbar": {
              "outlinewidth": 0,
              "ticks": ""
             }
            },
            "type": "scatterpolargl"
           }
          ],
          "scatterternary": [
           {
            "marker": {
             "colorbar": {
              "outlinewidth": 0,
              "ticks": ""
             }
            },
            "type": "scatterternary"
           }
          ],
          "surface": [
           {
            "colorbar": {
             "outlinewidth": 0,
             "ticks": ""
            },
            "colorscale": [
             [
              0,
              "#0d0887"
             ],
             [
              0.1111111111111111,
              "#46039f"
             ],
             [
              0.2222222222222222,
              "#7201a8"
             ],
             [
              0.3333333333333333,
              "#9c179e"
             ],
             [
              0.4444444444444444,
              "#bd3786"
             ],
             [
              0.5555555555555556,
              "#d8576b"
             ],
             [
              0.6666666666666666,
              "#ed7953"
             ],
             [
              0.7777777777777778,
              "#fb9f3a"
             ],
             [
              0.8888888888888888,
              "#fdca26"
             ],
             [
              1,
              "#f0f921"
             ]
            ],
            "type": "surface"
           }
          ],
          "table": [
           {
            "cells": {
             "fill": {
              "color": "#EBF0F8"
             },
             "line": {
              "color": "white"
             }
            },
            "header": {
             "fill": {
              "color": "#C8D4E3"
             },
             "line": {
              "color": "white"
             }
            },
            "type": "table"
           }
          ]
         },
         "layout": {
          "annotationdefaults": {
           "arrowcolor": "#2a3f5f",
           "arrowhead": 0,
           "arrowwidth": 1
          },
          "autotypenumbers": "strict",
          "coloraxis": {
           "colorbar": {
            "outlinewidth": 0,
            "ticks": ""
           }
          },
          "colorscale": {
           "diverging": [
            [
             0,
             "#8e0152"
            ],
            [
             0.1,
             "#c51b7d"
            ],
            [
             0.2,
             "#de77ae"
            ],
            [
             0.3,
             "#f1b6da"
            ],
            [
             0.4,
             "#fde0ef"
            ],
            [
             0.5,
             "#f7f7f7"
            ],
            [
             0.6,
             "#e6f5d0"
            ],
            [
             0.7,
             "#b8e186"
            ],
            [
             0.8,
             "#7fbc41"
            ],
            [
             0.9,
             "#4d9221"
            ],
            [
             1,
             "#276419"
            ]
           ],
           "sequential": [
            [
             0,
             "#0d0887"
            ],
            [
             0.1111111111111111,
             "#46039f"
            ],
            [
             0.2222222222222222,
             "#7201a8"
            ],
            [
             0.3333333333333333,
             "#9c179e"
            ],
            [
             0.4444444444444444,
             "#bd3786"
            ],
            [
             0.5555555555555556,
             "#d8576b"
            ],
            [
             0.6666666666666666,
             "#ed7953"
            ],
            [
             0.7777777777777778,
             "#fb9f3a"
            ],
            [
             0.8888888888888888,
             "#fdca26"
            ],
            [
             1,
             "#f0f921"
            ]
           ],
           "sequentialminus": [
            [
             0,
             "#0d0887"
            ],
            [
             0.1111111111111111,
             "#46039f"
            ],
            [
             0.2222222222222222,
             "#7201a8"
            ],
            [
             0.3333333333333333,
             "#9c179e"
            ],
            [
             0.4444444444444444,
             "#bd3786"
            ],
            [
             0.5555555555555556,
             "#d8576b"
            ],
            [
             0.6666666666666666,
             "#ed7953"
            ],
            [
             0.7777777777777778,
             "#fb9f3a"
            ],
            [
             0.8888888888888888,
             "#fdca26"
            ],
            [
             1,
             "#f0f921"
            ]
           ]
          },
          "colorway": [
           "#636efa",
           "#EF553B",
           "#00cc96",
           "#ab63fa",
           "#FFA15A",
           "#19d3f3",
           "#FF6692",
           "#B6E880",
           "#FF97FF",
           "#FECB52"
          ],
          "font": {
           "color": "#2a3f5f"
          },
          "geo": {
           "bgcolor": "white",
           "lakecolor": "white",
           "landcolor": "#E5ECF6",
           "showlakes": true,
           "showland": true,
           "subunitcolor": "white"
          },
          "hoverlabel": {
           "align": "left"
          },
          "hovermode": "closest",
          "mapbox": {
           "style": "light"
          },
          "paper_bgcolor": "white",
          "plot_bgcolor": "#E5ECF6",
          "polar": {
           "angularaxis": {
            "gridcolor": "white",
            "linecolor": "white",
            "ticks": ""
           },
           "bgcolor": "#E5ECF6",
           "radialaxis": {
            "gridcolor": "white",
            "linecolor": "white",
            "ticks": ""
           }
          },
          "scene": {
           "xaxis": {
            "backgroundcolor": "#E5ECF6",
            "gridcolor": "white",
            "gridwidth": 2,
            "linecolor": "white",
            "showbackground": true,
            "ticks": "",
            "zerolinecolor": "white"
           },
           "yaxis": {
            "backgroundcolor": "#E5ECF6",
            "gridcolor": "white",
            "gridwidth": 2,
            "linecolor": "white",
            "showbackground": true,
            "ticks": "",
            "zerolinecolor": "white"
           },
           "zaxis": {
            "backgroundcolor": "#E5ECF6",
            "gridcolor": "white",
            "gridwidth": 2,
            "linecolor": "white",
            "showbackground": true,
            "ticks": "",
            "zerolinecolor": "white"
           }
          },
          "shapedefaults": {
           "line": {
            "color": "#2a3f5f"
           }
          },
          "ternary": {
           "aaxis": {
            "gridcolor": "white",
            "linecolor": "white",
            "ticks": ""
           },
           "baxis": {
            "gridcolor": "white",
            "linecolor": "white",
            "ticks": ""
           },
           "bgcolor": "#E5ECF6",
           "caxis": {
            "gridcolor": "white",
            "linecolor": "white",
            "ticks": ""
           }
          },
          "title": {
           "x": 0.05
          },
          "xaxis": {
           "automargin": true,
           "gridcolor": "white",
           "linecolor": "white",
           "ticks": "",
           "title": {
            "standoff": 15
           },
           "zerolinecolor": "white",
           "zerolinewidth": 2
          },
          "yaxis": {
           "automargin": true,
           "gridcolor": "white",
           "linecolor": "white",
           "ticks": "",
           "title": {
            "standoff": 15
           },
           "zerolinecolor": "white",
           "zerolinewidth": 2
          }
         }
        }
       }
      },
      "text/html": [
       "<div>                            <div id=\"6065a169-fe84-42b1-9cd3-38810badf46f\" class=\"plotly-graph-div\" style=\"height:525px; width:100%;\"></div>            <script type=\"text/javascript\">                require([\"plotly\"], function(Plotly) {                    window.PLOTLYENV=window.PLOTLYENV || {};                                    if (document.getElementById(\"6065a169-fe84-42b1-9cd3-38810badf46f\")) {                    Plotly.newPlot(                        \"6065a169-fe84-42b1-9cd3-38810badf46f\",                        [{\"hovertemplate\":\"x=%{x}<br>y=%{y}<br>z=%{z}<extra></extra>\",\"legendgroup\":\"\",\"marker\":{\"color\":\"#636efa\",\"symbol\":\"circle\",\"size\":5},\"mode\":\"markers\",\"name\":\"\",\"scene\":\"scene\",\"showlegend\":false,\"x\":[-0.4358898943540674,1.307669683062202,0.4358898943540674,-1.307669683062202,-0.4358898943540674,1.307669683062202,0.4358898943540674,-1.307669683062202,-0.4358898943540674,1.307669683062202,0.4358898943540674,-1.307669683062202,-0.4358898943540674,1.307669683062202,0.4358898943540674,-1.307669683062202,-0.4358898943540674,1.307669683062202,0.4358898943540674,-1.307669683062202],\"y\":[-0.7336941591734925,-0.7336941591734925,-0.7336941591734925,-0.7336941591734925,1.6061953214338618,1.6061953214338618,1.6061953214338618,1.6061953214338618,-0.41642100926063086,-0.41642100926063086,-0.41642100926063086,-0.41642100926063086,0.5948871560866155,0.5948871560866155,0.5948871560866155,0.5948871560866155,-1.050967309086354,-1.050967309086354,-1.050967309086354,-1.050967309086354],\"z\":[-0.6386208061895251,-0.28669618932783303,-0.6346900947920586,-0.7375739759749254,1.3378094229414876,2.4231719818255253,1.336344925401448,1.0099406426724873,-0.5069859093005997,-0.10412899699140798,-0.5120618577743772,-0.6353901246161976,0.4234181648718409,1.1463498015419418,0.41291771750975637,0.1784721643149662,-1.087890574537654,-0.9070368443230753,-1.0792910449825408,-1.1380584022692526],\"type\":\"scatter3d\"},{\"name\":\"pred_surface\",\"x\":[-1.307669683062202,-1.207669683062202,-1.107669683062202,-1.0076696830622018,-0.9076696830622017,-0.8076696830622017,-0.7076696830622016,-0.6076696830622015,-0.5076696830622014,-0.4076696830622013,-0.3076696830622012,-0.20766968306220113,-0.10766968306220104,-0.007669683062200949,0.09233031693779914,0.19233031693779923,0.2923303169377993,0.3923303169377994,0.4923303169377995,0.5923303169377996,0.6923303169377997,0.7923303169377998,0.8923303169377999,0.9923303169377999,1.0923303169378,1.1923303169378001,1.2923303169378002],\"y\":[-1.050967309086354,-0.9509673090863541,-0.8509673090863541,-0.7509673090863541,-0.6509673090863541,-0.5509673090863542,-0.4509673090863542,-0.3509673090863542,-0.25096730908635423,-0.15096730908635425,-0.05096730908635427,0.049032690913645594,0.14903269091364568,0.24903269091364577,0.34903269091364564,0.4490326909136455,0.5490326909136456,0.6490326909136457,0.7490326909136455,0.8490326909136454,0.9490326909136455,1.0490326909136456,1.1490326909136452,1.2490326909136453,1.3490326909136454,1.4490326909136455,1.5490326909136456],\"z\":[[-1.049655005454568,-1.0340981389025026,-1.014379598056564,-0.9946610572106257,-0.9781708197760887,-0.969400802833427,-0.9615270844830305,-0.9536533661326342,-0.9480410640703193,-0.939207325402777,-0.9294689590423898,-0.9278657640877838,-0.9234248882367749,-0.9205620722408562,-0.9212190051326054,-0.9230029483402099,-0.9268007068839105,-0.928877907449979,-0.9203457871676909,-0.9101577803485327,-0.8985392168174068,-0.8868510327026649,-0.8748406965359915,-0.8595268256301806,-0.8424200640546193,-0.8116458043302671,-0.7633029490870625],[-0.9799505186675544,-0.9787162882283188,-0.9713237877079369,-0.9521543653821233,-0.9334856786136546,-0.9156987432470379,-0.9074632820624328,-0.9002397339122953,-0.8949821246251571,-0.8884569541420898,-0.8823568432172866,-0.8812675979941301,-0.8788586599120846,-0.880176679795634,-0.8775812368748255,-0.881668346646903,-0.8846424820409876,-0.8793979545152903,-0.8704981930993736,-0.8589208654636008,-0.8471702147407488,-0.8326339812818498,-0.8180977478229511,-0.8022981968046118,-0.7763908772284486,-0.7247191172563512,-0.668339516381642],[-0.9102909029180214,-0.9100458383154989,-0.9096669689236182,-0.9075892421394559,-0.8920172444462854,-0.8738828335797547,-0.8559212356370716,-0.8497586520895731,-0.8450353187043734,-0.8413062774713468,-0.8386117065784731,-0.8366350477149199,-0.8398822082032569,-0.8369399157392395,-0.8367452818354949,-0.8389942745911306,-0.8353947998512293,-0.8298822431981713,-0.8193025141097955,-0.8049634994866071,-0.7903805184352742,-0.7753064005793496,-0.7602322827234254,-0.7383082649074154,-0.6853390074336043,-0.6281566619543759,-0.57095814315668],[-0.8430822241915977,-0.8410602048655751,-0.8399009619504542,-0.8383510164350131,-0.8368010709195725,-0.8342113710330497,-0.8172470652936448,-0.8024361321722768,-0.7958746988357557,-0.7954838133866081,-0.795477378703863,-0.7945789737985739,-0.793835952658069,-0.7923333097353018,-0.7928922819545846,-0.7897465924013723,-0.7848622632189339,-0.7765381824866727,-0.7624255066246707,-0.7473513887687462,-0.7322772709128217,-0.7172031530568972,-0.6914440877635625,-0.6446017840156194,-0.5879738075271098,-0.530775288729414,-0.47357676993171827],[-0.7854629483217987,-0.7786597620224927,-0.7717943484510771,-0.7685769118136144,-0.7670269662981737,-0.7654770207827326,-0.766274349055263,-0.7636360274920833,-0.7514655244826766,-0.7518109936715996,-0.7490204134604127,-0.7471393184220687,-0.7461921124107327,-0.7433363849909839,-0.7397195635930535,-0.7355077362638257,-0.7280179088768594,-0.7187905991536396,-0.704322259102218,-0.6892481412462939,-0.6741740233903691,-0.6410977771602796,-0.5964640872299897,-0.5476294839294007,-0.4905924343021483,-0.43339391550445217,-0.38282956598537343],[-0.7116546898966287,-0.7144824671221869,-0.7121292043307829,-0.7038334716551479,-0.6972528616767749,-0.6950603247618125,-0.6987452570989244,-0.7119523675331576,-0.7183010603135827,-0.706978657141132,-0.7016954708187718,-0.6997796681411931,-0.6935040729631334,-0.6870461556306086,-0.6824282067950248,-0.6771836059127706,-0.6702115635919895,-0.6603910076834333,-0.6462190115797657,-0.6297794660524672,-0.5900927552761795,-0.5457643138062113,-0.4982255776395669,-0.45015189614417606,-0.39321106107718606,-0.34108566315805583,-0.2937371956596887],[-0.6201654829003838,-0.6272592061208278,-0.6261192184036213,-0.6237250915126619,-0.6214442147564129,-0.6258172313177066,-0.6387148651652581,-0.6486844109649152,-0.6512189287651929,-0.6440219699922317,-0.6341613554473718,-0.6220088482346583,-0.6133427820439915,-0.612473785636996,-0.61160478923,-0.6092471817081228,-0.6056561026207969,-0.5975685068623763,-0.5807433422636696,-0.5387432409165989,-0.49441479944663125,-0.4478131455762355,-0.3999870680491443,-0.35150431341501004,-0.29934176033073784,-0.2519820499710623,-0.20406093972216477],[-0.5215154300346245,-0.5201066268331457,-0.5231269799633295,-0.5235532665037875,-0.5320818749214339,-0.5507277060774368,-0.568704489056319,-0.5812079923178077,-0.5800661806843407,-0.5730639578149243,-0.5578670351705929,-0.5406754918305008,-0.5315749877371273,-0.5307059913301314,-0.5296031477802833,-0.5265421412959138,-0.5231043721444658,-0.5121592541451799,-0.482188197258243,-0.4430652850870511,-0.39740071351290374,-0.34957463598581257,-0.30174855845872184,-0.2434413806047916,-0.19072020654532718,-0.13522319495936153,-0.07972618337339572],[-0.43364581772417665,-0.4191127412410893,-0.4240796353267027,-0.43405904654744354,-0.4419689385563189,-0.4595832562373443,-0.47837781539948454,-0.4985855110427361,-0.5066721642585048,-0.5015160492351225,-0.4883314374805765,-0.4721953576318325,-0.4598431897094001,-0.44277121031757516,-0.4382476708461366,-0.4351866643617669,-0.43133133937731605,-0.4071911679608944,-0.37466603750362565,-0.33853622297256064,-0.29390416001191993,-0.2280788084348203,-0.16230999853653777,-0.1149562985356581,-0.06384268602716138,-0.008345674441196022,0.04715133714476956],[-0.34816130065872186,-0.34112504505123287,-0.3340887894437434,-0.3367169435852717,-0.34534817006938634,-0.36254325196107695,-0.38317419121168317,-0.4059966899258657,-0.41071282677449383,-0.40357219881108897,-0.39640281946552636,-0.3901865440012158,-0.38242390631300777,-0.3722562724308744,-0.35459985975476876,-0.3481622540089338,-0.3309806348906345,-0.2945722612102615,-0.24402526052038676,-0.18915348926720882,-0.13428171801403105,-0.0786919797603844,-0.033970573579920574,0.013289534193125216,0.06303483449100383,0.11853184607696991,0.17402885766293513],[-0.2711640764931256,-0.26028653085605175,-0.24892682832814184,-0.23123735390832395,-0.24232444503271272,-0.2645147120375074,-0.28641453862177735,-0.29507440470672475,-0.3019367278781374,-0.3045875085426118,-0.29840876198423333,-0.29510970223972777,-0.2873470645515198,-0.27915105933937256,-0.2571407877031948,-0.22115919080320268,-0.20032916455346622,-0.15268488559727622,-0.09088589636394127,-0.029086907130606562,0.026564297122227618,0.06601869462726193,0.10160889296330942,0.14153536692190877,0.1899123550091697,0.24540936659513546,0.3007670599396079],[-0.1967467507510754,-0.18389809555313424,-0.1687830714329604,-0.15020990611750085,-0.14548280742641784,-0.16108690234023437,-0.1683358655328856,-0.17691115616712183,-0.18548644680135784,-0.19406173743559413,-0.1975580411362134,-0.198112699153708,-0.19206067128168036,-0.17465253000981873,-0.14311025963854962,-0.10712866273855738,-0.07093554286706662,-0.007269642256046316,0.05452934697728838,0.11632833621062331,0.1671503354179005,0.20698625124446154,0.23998509619449782,0.27549927756978043,0.31377682187156547,0.375215826042861,0.4380739051039162],[-0.1232148531087623,-0.11036619791082088,-0.09391152750487554,-0.08390857688305382,-0.08010761246069052,-0.06279333125066568,-0.06370559023442919,-0.06882539950137863,-0.07524806611202144,-0.07906716308919877,-0.08875027981626184,-0.09719763869642718,-0.08253238362073285,-0.05812635471355794,-0.02905867688911938,0.007638514982315339,0.05409259542503708,0.1297699032852886,0.1990721398799017,0.24754531187363032,0.2866465389858757,0.3257477660981213,0.3726371969667408,0.42559641202853826,0.4751606588323734,0.5284434671285299,0.5871804123732135],[-0.04989958192347167,-0.040522476406701105,-0.026199709396155527,-0.018920068661215414,-0.0016057874511905268,0.01570849375883411,0.03302277496885887,0.031038320582032805,0.031969122082540616,0.029616374685132826,0.014984291280522657,0.021922615919585123,0.03323853987126643,0.05453083707316442,0.08270829477071957,0.12834952295569807,0.17931413428004572,0.24460672317550292,0.3053516760721533,0.35605024925226153,0.40177586206566146,0.4612392917865128,0.5198283827943014,0.5784203499562091,0.6366371605824982,0.6892029618874018,0.7434263690569879],[0.013082840126786024,0.0254822194482468,0.042937760760724905,0.05958175634828401,0.0768960375583088,0.0948716999130498,0.11411580496440989,0.1325846230739295,0.13200947525052859,0.13070685341578675,0.13776508356522355,0.144516720906057,0.15583264485773837,0.1695407342909417,0.19797392301370778,0.23050383139903055,0.26832148621547586,0.331003595062147,0.3844328803172905,0.43786216557243407,0.5126924806280859,0.5817751521621535,0.6505665225698977,0.7176453665520158,0.7845160142067639,0.8444290458372529,0.9042767420145329],[0.07401938085678876,0.0970721518309562,0.12401218134034472,0.14355233516813662,0.16279644021949638,0.1811169388055192,0.1979394674022108,0.2137337139415711,0.23665200962825067,0.24699228018231728,0.25405051033175413,0.2613196723944731,0.27342698360880935,0.2763940548064969,0.2853257701709424,0.30888477302383044,0.35675084845142796,0.4101801337065715,0.46360941896171504,0.5290662319333539,0.6091943405976917,0.6904802039978597,0.7628752147220427,0.8346721582159619,0.9017510021980805,0.9686885180618908,1.0353039851534034],[0.1467159573257698,0.1829715764452443,0.20611287157320662,0.22763333141841507,0.24687559641430024,0.2626698429536605,0.27846408949302087,0.30551918694817837,0.33544102555972755,0.35775294026573035,0.3623608157492872,0.35553767774657685,0.3584396860481966,0.3623260090020083,0.3685362683299705,0.39285687745589315,0.4359273870958526,0.48935667235099606,0.5427859576061396,0.6228800315183298,0.7030081401826677,0.7862626136990377,0.8707783549107632,0.9439752772819322,1.0163702880061154,1.0818547909253196,1.1420547667536258],[0.23074364748442802,0.26507226667810624,0.2873129346146462,0.30714318272511093,0.3255987740707642,0.34319446504447054,0.37328189912142995,0.4044247240640351,0.42641423218049557,0.4367218308820003,0.44269414573522414,0.43907216471456734,0.44012205875374,0.4440083817075515,0.45512921510843063,0.47055121666622357,0.5151039257402774,0.568533210995421,0.6365657224389678,0.7166938311033059,0.7951582257035547,0.8834541027537091,0.9733704992896713,1.0600748241484466,1.129869088656324,1.1980586459717546,1.2633444385169668],[0.32025191014728493,0.3469925378108772,0.3657512305430449,0.3842068218886984,0.408750409988911,0.4404755155586231,0.4714315029133709,0.4934591809192516,0.497920593795878,0.5052477804430306,0.5146495867787985,0.5219368866965702,0.521804431459283,0.5311044492490646,0.5351207287702536,0.5430544879262499,0.5875309066032812,0.6549510548277653,0.7404798188163402,0.8260085828049147,0.9123271505928944,1.0022435471288564,1.0890046125067718,1.1648309993953736,1.2406573862839756,1.3115511027451814,1.377332777420707],[0.40526864174690597,0.42435927836097903,0.4434485010123592,0.4751736065820712,0.5068987121517831,0.5365085774540734,0.5507468365519672,0.5585195730785113,0.5661708633444915,0.574787754069258,0.5822953742722203,0.5898655460598585,0.610797636422647,0.6216759533938688,0.6265134939592489,0.6362142606192318,0.6773098544687334,0.7563682179055907,0.8551122749510881,0.943772491432682,1.0311165949680416,1.1179344008650967,1.1937607877536984,1.2695871746423006,1.3454135615309029,1.4212399484195044,1.4913211163244484],[0.4816891350811018,0.5098716976055196,0.5415968031752313,0.5733219087449436,0.5924224316259074,0.6009621025002568,0.6094004897849242,0.6222463977831038,0.6380587021245556,0.6529315691850611,0.6668715877299587,0.6918719293913558,0.7147148256809734,0.7247273921941376,0.7295149496865551,0.7374623083680467,0.7750050436562936,0.8567929877943458,0.955537044839843,1.0542811018853395,1.146864189223422,1.2226905761120241,1.298516963000626,1.3743433498892281,1.45016973677783,1.5259961236664321,1.6004063921757574],[0.5656895294106059,0.5984129538330065,0.6270242382111174,0.6457661613640076,0.6604188701757971,0.6781162550209151,0.6951194080350039,0.7106725578229217,0.7262257076108397,0.7417788573987576,0.7687443903706294,0.7961080474195524,0.8098854907522747,0.8226123334469689,0.8321987450776621,0.8412920363633916,0.8812934443612785,0.9621306769473783,1.0559618147285978,1.1494794567088777,1.2416363606683538,1.3274467513589512,1.4032731382475534,1.4790995251361552,1.5549259120247574,1.6307522989133592,1.7056584495529983],[0.6577472080729607,0.6904186865906308,0.7110580080501038,0.7310666930674128,0.7492227657719174,0.7658822308402096,0.7831310167127116,0.798839563309205,0.814392713097123,0.8432629764129705,0.8736657302738288,0.8907088321743607,0.9050561558235758,0.91778299851827,0.9305098412129643,0.9465878887055301,0.9924868858834367,1.0716767473023863,1.1485907657719308,1.2350623907740879,1.3281006761557936,1.4211389615374992,1.5080293134944802,1.583855700383082,1.659682087271684,1.7355084741602862,1.8109105069302398],[0.7506996359754948,0.773257802762435,0.7936198640847444,0.8138832227274592,0.8318237604624384,0.8485966173740199,0.8661569888427205,0.885045021961115,0.9143641747865694,0.9450579174772588,0.9652192282552591,0.9839000363532447,0.9991887400290996,1.0129536635895713,1.0256805062842655,1.0479371966743354,1.1067160719914158,1.1765214722230033,1.242752840294474,1.3215267062615283,1.4145649916432343,1.5076032770249401,1.6006415624066463,1.6886118756300097,1.7644382625186115,1.8397297654554385,1.9130046075241827],[0.8317340619921694,0.851997420634884,0.8722607792775988,0.8925241379203136,0.9127874965630283,0.9308852451904971,0.9514561811909088,0.9808593615661348,1.011718863111811,1.033647658419524,1.053121100131873,1.0706984454369688,1.0876752443913158,1.104652043345663,1.120826310381241,1.1489351511718773,1.2199246339505856,1.2746172123730908,1.3380253680095417,1.4106227618291611,1.5010293071306748,1.594067592512381,1.6871058778940866,1.7801441632757926,1.8672994523297017,1.9405742943984452,2.013849136467189],[0.9103749771850239,0.9306383358277389,0.9509016944704536,0.9711650531131685,0.9916254234849708,1.0178673404207026,1.047316125036692,1.0781756265823679,1.1017061475648076,1.121179589277156,1.139841484836883,1.1568182837912302,1.1737950827455774,1.1907718816999244,1.2077486806542719,1.2508868709103709,1.306734026145359,1.3607175591193588,1.427088714828885,1.5049837659279075,1.5874351864834464,1.6805319079998213,1.7728666512814861,1.8633533918433336,1.9538401324051806,2.041418823341452,2.1146936654101953],[0.9890158923778787,1.0092792510205937,1.0302092381221608,1.0521727314824454,1.0772979945178391,1.1118086297312915,1.1446323900529254,1.169764636710091,1.1892380784224397,1.2087115201347884,1.2259613231911444,1.2429381221454918,1.2599149210998388,1.276891720054186,1.2938685190085333,1.350420338088864,1.395198007419859,1.444665867217589,1.5070550517815742,1.5889602887752345,1.6709680566028704,1.7596815812566953,1.8522766912694681,1.9448976576272163,2.035917772098933,2.126576906572765,2.215119863705461]],\"type\":\"surface\"}],                        {\"template\":{\"data\":{\"bar\":[{\"error_x\":{\"color\":\"#2a3f5f\"},\"error_y\":{\"color\":\"#2a3f5f\"},\"marker\":{\"line\":{\"color\":\"#E5ECF6\",\"width\":0.5},\"pattern\":{\"fillmode\":\"overlay\",\"size\":10,\"solidity\":0.2}},\"type\":\"bar\"}],\"barpolar\":[{\"marker\":{\"line\":{\"color\":\"#E5ECF6\",\"width\":0.5},\"pattern\":{\"fillmode\":\"overlay\",\"size\":10,\"solidity\":0.2}},\"type\":\"barpolar\"}],\"carpet\":[{\"aaxis\":{\"endlinecolor\":\"#2a3f5f\",\"gridcolor\":\"white\",\"linecolor\":\"white\",\"minorgridcolor\":\"white\",\"startlinecolor\":\"#2a3f5f\"},\"baxis\":{\"endlinecolor\":\"#2a3f5f\",\"gridcolor\":\"white\",\"linecolor\":\"white\",\"minorgridcolor\":\"white\",\"startlinecolor\":\"#2a3f5f\"},\"type\":\"carpet\"}],\"choropleth\":[{\"colorbar\":{\"outlinewidth\":0,\"ticks\":\"\"},\"type\":\"choropleth\"}],\"contour\":[{\"colorbar\":{\"outlinewidth\":0,\"ticks\":\"\"},\"colorscale\":[[0.0,\"#0d0887\"],[0.1111111111111111,\"#46039f\"],[0.2222222222222222,\"#7201a8\"],[0.3333333333333333,\"#9c179e\"],[0.4444444444444444,\"#bd3786\"],[0.5555555555555556,\"#d8576b\"],[0.6666666666666666,\"#ed7953\"],[0.7777777777777778,\"#fb9f3a\"],[0.8888888888888888,\"#fdca26\"],[1.0,\"#f0f921\"]],\"type\":\"contour\"}],\"contourcarpet\":[{\"colorbar\":{\"outlinewidth\":0,\"ticks\":\"\"},\"type\":\"contourcarpet\"}],\"heatmap\":[{\"colorbar\":{\"outlinewidth\":0,\"ticks\":\"\"},\"colorscale\":[[0.0,\"#0d0887\"],[0.1111111111111111,\"#46039f\"],[0.2222222222222222,\"#7201a8\"],[0.3333333333333333,\"#9c179e\"],[0.4444444444444444,\"#bd3786\"],[0.5555555555555556,\"#d8576b\"],[0.6666666666666666,\"#ed7953\"],[0.7777777777777778,\"#fb9f3a\"],[0.8888888888888888,\"#fdca26\"],[1.0,\"#f0f921\"]],\"type\":\"heatmap\"}],\"heatmapgl\":[{\"colorbar\":{\"outlinewidth\":0,\"ticks\":\"\"},\"colorscale\":[[0.0,\"#0d0887\"],[0.1111111111111111,\"#46039f\"],[0.2222222222222222,\"#7201a8\"],[0.3333333333333333,\"#9c179e\"],[0.4444444444444444,\"#bd3786\"],[0.5555555555555556,\"#d8576b\"],[0.6666666666666666,\"#ed7953\"],[0.7777777777777778,\"#fb9f3a\"],[0.8888888888888888,\"#fdca26\"],[1.0,\"#f0f921\"]],\"type\":\"heatmapgl\"}],\"histogram\":[{\"marker\":{\"pattern\":{\"fillmode\":\"overlay\",\"size\":10,\"solidity\":0.2}},\"type\":\"histogram\"}],\"histogram2d\":[{\"colorbar\":{\"outlinewidth\":0,\"ticks\":\"\"},\"colorscale\":[[0.0,\"#0d0887\"],[0.1111111111111111,\"#46039f\"],[0.2222222222222222,\"#7201a8\"],[0.3333333333333333,\"#9c179e\"],[0.4444444444444444,\"#bd3786\"],[0.5555555555555556,\"#d8576b\"],[0.6666666666666666,\"#ed7953\"],[0.7777777777777778,\"#fb9f3a\"],[0.8888888888888888,\"#fdca26\"],[1.0,\"#f0f921\"]],\"type\":\"histogram2d\"}],\"histogram2dcontour\":[{\"colorbar\":{\"outlinewidth\":0,\"ticks\":\"\"},\"colorscale\":[[0.0,\"#0d0887\"],[0.1111111111111111,\"#46039f\"],[0.2222222222222222,\"#7201a8\"],[0.3333333333333333,\"#9c179e\"],[0.4444444444444444,\"#bd3786\"],[0.5555555555555556,\"#d8576b\"],[0.6666666666666666,\"#ed7953\"],[0.7777777777777778,\"#fb9f3a\"],[0.8888888888888888,\"#fdca26\"],[1.0,\"#f0f921\"]],\"type\":\"histogram2dcontour\"}],\"mesh3d\":[{\"colorbar\":{\"outlinewidth\":0,\"ticks\":\"\"},\"type\":\"mesh3d\"}],\"parcoords\":[{\"line\":{\"colorbar\":{\"outlinewidth\":0,\"ticks\":\"\"}},\"type\":\"parcoords\"}],\"pie\":[{\"automargin\":true,\"type\":\"pie\"}],\"scatter\":[{\"marker\":{\"colorbar\":{\"outlinewidth\":0,\"ticks\":\"\"}},\"type\":\"scatter\"}],\"scatter3d\":[{\"line\":{\"colorbar\":{\"outlinewidth\":0,\"ticks\":\"\"}},\"marker\":{\"colorbar\":{\"outlinewidth\":0,\"ticks\":\"\"}},\"type\":\"scatter3d\"}],\"scattercarpet\":[{\"marker\":{\"colorbar\":{\"outlinewidth\":0,\"ticks\":\"\"}},\"type\":\"scattercarpet\"}],\"scattergeo\":[{\"marker\":{\"colorbar\":{\"outlinewidth\":0,\"ticks\":\"\"}},\"type\":\"scattergeo\"}],\"scattergl\":[{\"marker\":{\"colorbar\":{\"outlinewidth\":0,\"ticks\":\"\"}},\"type\":\"scattergl\"}],\"scattermapbox\":[{\"marker\":{\"colorbar\":{\"outlinewidth\":0,\"ticks\":\"\"}},\"type\":\"scattermapbox\"}],\"scatterpolar\":[{\"marker\":{\"colorbar\":{\"outlinewidth\":0,\"ticks\":\"\"}},\"type\":\"scatterpolar\"}],\"scatterpolargl\":[{\"marker\":{\"colorbar\":{\"outlinewidth\":0,\"ticks\":\"\"}},\"type\":\"scatterpolargl\"}],\"scatterternary\":[{\"marker\":{\"colorbar\":{\"outlinewidth\":0,\"ticks\":\"\"}},\"type\":\"scatterternary\"}],\"surface\":[{\"colorbar\":{\"outlinewidth\":0,\"ticks\":\"\"},\"colorscale\":[[0.0,\"#0d0887\"],[0.1111111111111111,\"#46039f\"],[0.2222222222222222,\"#7201a8\"],[0.3333333333333333,\"#9c179e\"],[0.4444444444444444,\"#bd3786\"],[0.5555555555555556,\"#d8576b\"],[0.6666666666666666,\"#ed7953\"],[0.7777777777777778,\"#fb9f3a\"],[0.8888888888888888,\"#fdca26\"],[1.0,\"#f0f921\"]],\"type\":\"surface\"}],\"table\":[{\"cells\":{\"fill\":{\"color\":\"#EBF0F8\"},\"line\":{\"color\":\"white\"}},\"header\":{\"fill\":{\"color\":\"#C8D4E3\"},\"line\":{\"color\":\"white\"}},\"type\":\"table\"}]},\"layout\":{\"annotationdefaults\":{\"arrowcolor\":\"#2a3f5f\",\"arrowhead\":0,\"arrowwidth\":1},\"autotypenumbers\":\"strict\",\"coloraxis\":{\"colorbar\":{\"outlinewidth\":0,\"ticks\":\"\"}},\"colorscale\":{\"diverging\":[[0,\"#8e0152\"],[0.1,\"#c51b7d\"],[0.2,\"#de77ae\"],[0.3,\"#f1b6da\"],[0.4,\"#fde0ef\"],[0.5,\"#f7f7f7\"],[0.6,\"#e6f5d0\"],[0.7,\"#b8e186\"],[0.8,\"#7fbc41\"],[0.9,\"#4d9221\"],[1,\"#276419\"]],\"sequential\":[[0.0,\"#0d0887\"],[0.1111111111111111,\"#46039f\"],[0.2222222222222222,\"#7201a8\"],[0.3333333333333333,\"#9c179e\"],[0.4444444444444444,\"#bd3786\"],[0.5555555555555556,\"#d8576b\"],[0.6666666666666666,\"#ed7953\"],[0.7777777777777778,\"#fb9f3a\"],[0.8888888888888888,\"#fdca26\"],[1.0,\"#f0f921\"]],\"sequentialminus\":[[0.0,\"#0d0887\"],[0.1111111111111111,\"#46039f\"],[0.2222222222222222,\"#7201a8\"],[0.3333333333333333,\"#9c179e\"],[0.4444444444444444,\"#bd3786\"],[0.5555555555555556,\"#d8576b\"],[0.6666666666666666,\"#ed7953\"],[0.7777777777777778,\"#fb9f3a\"],[0.8888888888888888,\"#fdca26\"],[1.0,\"#f0f921\"]]},\"colorway\":[\"#636efa\",\"#EF553B\",\"#00cc96\",\"#ab63fa\",\"#FFA15A\",\"#19d3f3\",\"#FF6692\",\"#B6E880\",\"#FF97FF\",\"#FECB52\"],\"font\":{\"color\":\"#2a3f5f\"},\"geo\":{\"bgcolor\":\"white\",\"lakecolor\":\"white\",\"landcolor\":\"#E5ECF6\",\"showlakes\":true,\"showland\":true,\"subunitcolor\":\"white\"},\"hoverlabel\":{\"align\":\"left\"},\"hovermode\":\"closest\",\"mapbox\":{\"style\":\"light\"},\"paper_bgcolor\":\"white\",\"plot_bgcolor\":\"#E5ECF6\",\"polar\":{\"angularaxis\":{\"gridcolor\":\"white\",\"linecolor\":\"white\",\"ticks\":\"\"},\"bgcolor\":\"#E5ECF6\",\"radialaxis\":{\"gridcolor\":\"white\",\"linecolor\":\"white\",\"ticks\":\"\"}},\"scene\":{\"xaxis\":{\"backgroundcolor\":\"#E5ECF6\",\"gridcolor\":\"white\",\"gridwidth\":2,\"linecolor\":\"white\",\"showbackground\":true,\"ticks\":\"\",\"zerolinecolor\":\"white\"},\"yaxis\":{\"backgroundcolor\":\"#E5ECF6\",\"gridcolor\":\"white\",\"gridwidth\":2,\"linecolor\":\"white\",\"showbackground\":true,\"ticks\":\"\",\"zerolinecolor\":\"white\"},\"zaxis\":{\"backgroundcolor\":\"#E5ECF6\",\"gridcolor\":\"white\",\"gridwidth\":2,\"linecolor\":\"white\",\"showbackground\":true,\"ticks\":\"\",\"zerolinecolor\":\"white\"}},\"shapedefaults\":{\"line\":{\"color\":\"#2a3f5f\"}},\"ternary\":{\"aaxis\":{\"gridcolor\":\"white\",\"linecolor\":\"white\",\"ticks\":\"\"},\"baxis\":{\"gridcolor\":\"white\",\"linecolor\":\"white\",\"ticks\":\"\"},\"bgcolor\":\"#E5ECF6\",\"caxis\":{\"gridcolor\":\"white\",\"linecolor\":\"white\",\"ticks\":\"\"}},\"title\":{\"x\":0.05},\"xaxis\":{\"automargin\":true,\"gridcolor\":\"white\",\"linecolor\":\"white\",\"ticks\":\"\",\"title\":{\"standoff\":15},\"zerolinecolor\":\"white\",\"zerolinewidth\":2},\"yaxis\":{\"automargin\":true,\"gridcolor\":\"white\",\"linecolor\":\"white\",\"ticks\":\"\",\"title\":{\"standoff\":15},\"zerolinecolor\":\"white\",\"zerolinewidth\":2}}},\"scene\":{\"domain\":{\"x\":[0.0,1.0],\"y\":[0.0,1.0]},\"xaxis\":{\"title\":{\"text\":\"x\"}},\"yaxis\":{\"title\":{\"text\":\"y\"}},\"zaxis\":{\"title\":{\"text\":\"z\"}}},\"legend\":{\"tracegroupgap\":0},\"margin\":{\"t\":60}},                        {\"responsive\": true}                    ).then(function(){\n",
       "                            \n",
       "var gd = document.getElementById('6065a169-fe84-42b1-9cd3-38810badf46f');\n",
       "var x = new MutationObserver(function (mutations, observer) {{\n",
       "        var display = window.getComputedStyle(gd).display;\n",
       "        if (!display || display === 'none') {{\n",
       "            console.log([gd, 'removed!']);\n",
       "            Plotly.purge(gd);\n",
       "            observer.disconnect();\n",
       "        }}\n",
       "}});\n",
       "\n",
       "// Listen for the removal of the full notebook cells\n",
       "var notebookContainer = gd.closest('#notebook-container');\n",
       "if (notebookContainer) {{\n",
       "    x.observe(notebookContainer, {childList: true});\n",
       "}}\n",
       "\n",
       "// Listen for the clearing of the current output cell\n",
       "var outputEl = gd.closest('.output');\n",
       "if (outputEl) {{\n",
       "    x.observe(outputEl, {childList: true});\n",
       "}}\n",
       "\n",
       "                        })                };                });            </script>        </div>"
      ]
     },
     "metadata": {},
     "output_type": "display_data"
    }
   ],
   "source": [
    "\n",
    "mesh_size = 0.1\n",
    "margin = 0\n",
    "\n",
    "X = df[['x', 'y']]\n",
    "y = df['z']\n",
    "\n",
    "# Condition the model on sepal width and length, predict the petal width\n",
    "model = MLPRegressor(hidden_layer_sizes=[30,30,10],)\n",
    "model.fit(X, y)\n",
    "\n",
    "# Create a mesh grid on which we will run our model\n",
    "x_min, x_max = X.x.min() - margin, X.x.max() + margin\n",
    "y_min, y_max = X.y.min() - margin, X.y.max() + margin\n",
    "xrange = np.arange(x_min, x_max, mesh_size)\n",
    "yrange = np.arange(y_min, y_max, mesh_size)\n",
    "xx, yy = np.meshgrid(xrange, yrange)\n",
    "\n",
    "# Run model\n",
    "pred = model.predict(np.c_[xx.ravel(), yy.ravel()])\n",
    "pred = pred.reshape(xx.shape)\n",
    "\n",
    "# Generate the plot\n",
    "fig = px.scatter_3d(df, x='x', y='y', z='z')\n",
    "fig.update_traces(marker=dict(size=5))\n",
    "fig.add_traces(go.Surface(x=xrange, y=yrange, z=pred, name='pred_surface'))\n",
    "fig.show()\n"
   ]
  },
  {
   "cell_type": "code",
   "execution_count": 57,
   "id": "0569246f-2acb-4b23-8188-cd9cca83539e",
   "metadata": {},
   "outputs": [
    {
     "data": {
      "text/plain": [
       "'https://plotly.com/~cedar_ren/35/'"
      ]
     },
     "execution_count": 57,
     "metadata": {},
     "output_type": "execute_result"
    }
   ],
   "source": [
    "import chart_studio.plotly as py\n",
    "py.plot(fig, filename = 'swe_map_test', auto_open=True)"
   ]
  },
  {
   "cell_type": "code",
   "execution_count": null,
   "id": "4d09e1ad-4018-4f99-a44c-95457b9cf085",
   "metadata": {},
   "outputs": [],
   "source": []
  },
  {
   "cell_type": "code",
   "execution_count": null,
   "id": "8c255fb7-1360-48d7-9f39-50bc7fa4d19b",
   "metadata": {},
   "outputs": [],
   "source": []
  },
  {
   "cell_type": "code",
   "execution_count": null,
   "id": "4a3a3ec6-7000-4bb9-acbc-3d46bdc54f59",
   "metadata": {},
   "outputs": [],
   "source": []
  }
 ],
 "metadata": {
  "kernelspec": {
   "display_name": "Python 3 (ipykernel)",
   "language": "python",
   "name": "python3"
  },
  "language_info": {
   "codemirror_mode": {
    "name": "ipython",
    "version": 3
   },
   "file_extension": ".py",
   "mimetype": "text/x-python",
   "name": "python",
   "nbconvert_exporter": "python",
   "pygments_lexer": "ipython3",
   "version": "3.9.7"
  }
 },
 "nbformat": 4,
 "nbformat_minor": 5
}
